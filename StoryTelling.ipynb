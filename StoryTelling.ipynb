{
 "cells": [
  {
   "cell_type": "code",
   "execution_count": 1,
   "metadata": {},
   "outputs": [],
   "source": [
    "import pandas as pd\n",
    "import numpy as np\n",
    "import seaborn as sns\n",
    "import matplotlib.pyplot as plt\n",
    "#import plotly.graph_objs as go\n",
    "#import plotly.offline as py\n",
    "#import plotly.tools as tls\n",
    "\n",
    "import datetime\n",
    "from datetime import datetime\n",
    "import statistics as es \n",
    "import csv\n",
    "import re \n",
    "import warnings\n",
    "warnings.filterwarnings('ignore')\n",
    "pd.set_option('display.max_columns', None)\n",
    "\n"
   ]
  },
  {
   "cell_type": "markdown",
   "metadata": {},
   "source": [
    "Managing only the datasets of these groups. The others groups avaliable on Paper don' t have  tweets information, only users.\n"
   ]
  },
  {
   "cell_type": "code",
   "execution_count": 2,
   "metadata": {},
   "outputs": [],
   "source": [
    "#Tweets of datasets\n",
    "data1=pd.read_csv('genuine/tweets.csv', sep=',')\n",
    "data2=pd.read_csv('social_spambots_1/tweets.csv', sep=',')\n",
    "data3=pd.read_csv('social_spambots_2/tweets.csv', sep=',')\n",
    "data4=pd.read_csv('social_spambots_3/tweets.csv', sep=',')\n",
    "data5=pd.read_csv('traditional_spambots_1/tweets.csv', sep=',')"
   ]
  },
  {
   "cell_type": "markdown",
   "metadata": {},
   "source": [
    "to have some idea of the users and tweet's datasets. I'll show some informations"
   ]
  },
  {
   "cell_type": "code",
   "execution_count": 4,
   "metadata": {},
   "outputs": [
    {
     "data": {
      "text/plain": [
       "dict_keys(['df1', 'df2', 'df3', 'df4', 'df5'])"
      ]
     },
     "execution_count": 4,
     "metadata": {},
     "output_type": "execute_result"
    }
   ],
   "source": [
    "#To take easy the handling, i will transform the datasets in python dictionary\n",
    "#tweets\n",
    "d = {} \n",
    "d['df1'] = data1.copy()\n",
    "d['df2'] = data2.copy()\n",
    "d['df3'] = data3.copy()\n",
    "d['df4'] = data4.copy()\n",
    "d['df5'] = data5.copy()\n",
    "d.keys() \n",
    "#Users\n",
    "\n"
   ]
  },
  {
   "cell_type": "code",
   "execution_count": 6,
   "metadata": {},
   "outputs": [
    {
     "name": "stdout",
     "output_type": "stream",
     "text": [
      "Shape of  df1  (2839362, 25) unique users 1084\n",
      "Shape of  df2  (1610034, 25) unique users 991\n",
      "Shape of  df3  (428542, 25) unique users 3457\n",
      "Shape of  df4  (1418557, 25) unique users 464\n",
      "Shape of  df5  (145094, 25) unique users 1000\n",
      "-----------------------------\n",
      "Shape of df1a  (3474, 42)\n",
      "Shape of df2a  (991, 41)\n",
      "Shape of df3a  (3457, 40)\n",
      "Shape of df4a  (464, 41)\n",
      "Shape of df5a  (1000, 40)\n"
     ]
    }
   ],
   "source": [
    "for x in d.keys():\n",
    "      print(\"Shape of  \"+x+\" \", d[x].shape, \"unique users\", d[x].drop_duplicates('user_id').shape[0])\n",
    "print(\"-----------------------------\")\n",
    "for x in da.keys():\n",
    "      print(\"Shape of \"+x+\" \", da[x].shape, )\n"
   ]
  },
  {
   "cell_type": "code",
   "execution_count": 7,
   "metadata": {},
   "outputs": [
    {
     "data": {
      "text/html": [
       "<div>\n",
       "<style scoped>\n",
       "    .dataframe tbody tr th:only-of-type {\n",
       "        vertical-align: middle;\n",
       "    }\n",
       "\n",
       "    .dataframe tbody tr th {\n",
       "        vertical-align: top;\n",
       "    }\n",
       "\n",
       "    .dataframe thead th {\n",
       "        text-align: right;\n",
       "    }\n",
       "</style>\n",
       "<table border=\"1\" class=\"dataframe\">\n",
       "  <thead>\n",
       "    <tr style=\"text-align: right;\">\n",
       "      <th></th>\n",
       "      <th>id</th>\n",
       "      <th>text</th>\n",
       "      <th>source</th>\n",
       "      <th>user_id</th>\n",
       "      <th>truncated</th>\n",
       "      <th>in_reply_to_status_id</th>\n",
       "      <th>in_reply_to_user_id</th>\n",
       "      <th>in_reply_to_screen_name</th>\n",
       "      <th>retweeted_status_id</th>\n",
       "      <th>geo</th>\n",
       "      <th>place</th>\n",
       "      <th>contributors</th>\n",
       "      <th>retweet_count</th>\n",
       "      <th>reply_count</th>\n",
       "      <th>favorite_count</th>\n",
       "      <th>favorited</th>\n",
       "      <th>retweeted</th>\n",
       "      <th>possibly_sensitive</th>\n",
       "      <th>num_hashtags</th>\n",
       "      <th>num_urls</th>\n",
       "      <th>num_mentions</th>\n",
       "      <th>created_at</th>\n",
       "      <th>timestamp</th>\n",
       "      <th>crawled_at</th>\n",
       "      <th>updated</th>\n",
       "    </tr>\n",
       "  </thead>\n",
       "  <tbody>\n",
       "    <tr>\n",
       "      <th>0</th>\n",
       "      <td>593932392663912449</td>\n",
       "      <td>RT @morningJewshow: Speaking about Jews and co...</td>\n",
       "      <td>&lt;a href=\"http://tapbots.com/tweetbot\" rel=\"nof...</td>\n",
       "      <td>678033.0</td>\n",
       "      <td>NaN</td>\n",
       "      <td>0.0</td>\n",
       "      <td>0.0</td>\n",
       "      <td>NaN</td>\n",
       "      <td>5.939322e+17</td>\n",
       "      <td>NaN</td>\n",
       "      <td>NaN</td>\n",
       "      <td>NaN</td>\n",
       "      <td>1.0</td>\n",
       "      <td>0.0</td>\n",
       "      <td>0.0</td>\n",
       "      <td>NaN</td>\n",
       "      <td>NaN</td>\n",
       "      <td>NaN</td>\n",
       "      <td>0.0</td>\n",
       "      <td>0.0</td>\n",
       "      <td>1.0</td>\n",
       "      <td>Fri May 01 00:18:11 +0000 2015</td>\n",
       "      <td>2015-05-01 02:18:11</td>\n",
       "      <td>2015-05-01 12:57:19</td>\n",
       "      <td>2015-05-01 12:57:19</td>\n",
       "    </tr>\n",
       "  </tbody>\n",
       "</table>\n",
       "</div>"
      ],
      "text/plain": [
       "                   id                                               text  \\\n",
       "0  593932392663912449  RT @morningJewshow: Speaking about Jews and co...   \n",
       "\n",
       "                                              source   user_id  truncated  \\\n",
       "0  <a href=\"http://tapbots.com/tweetbot\" rel=\"nof...  678033.0        NaN   \n",
       "\n",
       "   in_reply_to_status_id  in_reply_to_user_id in_reply_to_screen_name  \\\n",
       "0                    0.0                  0.0                     NaN   \n",
       "\n",
       "   retweeted_status_id  geo place  contributors  retweet_count  reply_count  \\\n",
       "0         5.939322e+17  NaN   NaN           NaN            1.0          0.0   \n",
       "\n",
       "   favorite_count  favorited  retweeted  possibly_sensitive  num_hashtags  \\\n",
       "0             0.0        NaN        NaN                 NaN           0.0   \n",
       "\n",
       "   num_urls  num_mentions                      created_at  \\\n",
       "0       0.0           1.0  Fri May 01 00:18:11 +0000 2015   \n",
       "\n",
       "             timestamp           crawled_at              updated  \n",
       "0  2015-05-01 02:18:11  2015-05-01 12:57:19  2015-05-01 12:57:19  "
      ]
     },
     "execution_count": 7,
     "metadata": {},
     "output_type": "execute_result"
    }
   ],
   "source": [
    "data1.head(1)"
   ]
  },
  {
   "cell_type": "code",
   "execution_count": 8,
   "metadata": {},
   "outputs": [
    {
     "data": {
      "text/html": [
       "<div>\n",
       "<style scoped>\n",
       "    .dataframe tbody tr th:only-of-type {\n",
       "        vertical-align: middle;\n",
       "    }\n",
       "\n",
       "    .dataframe tbody tr th {\n",
       "        vertical-align: top;\n",
       "    }\n",
       "\n",
       "    .dataframe thead th {\n",
       "        text-align: right;\n",
       "    }\n",
       "</style>\n",
       "<table border=\"1\" class=\"dataframe\">\n",
       "  <thead>\n",
       "    <tr style=\"text-align: right;\">\n",
       "      <th></th>\n",
       "      <th>id</th>\n",
       "      <th>name</th>\n",
       "      <th>screen_name</th>\n",
       "      <th>statuses_count</th>\n",
       "      <th>followers_count</th>\n",
       "      <th>friends_count</th>\n",
       "      <th>favourites_count</th>\n",
       "      <th>listed_count</th>\n",
       "      <th>url</th>\n",
       "      <th>lang</th>\n",
       "      <th>time_zone</th>\n",
       "      <th>location</th>\n",
       "      <th>default_profile</th>\n",
       "      <th>default_profile_image</th>\n",
       "      <th>geo_enabled</th>\n",
       "      <th>profile_image_url</th>\n",
       "      <th>profile_banner_url</th>\n",
       "      <th>profile_use_background_image</th>\n",
       "      <th>profile_background_image_url_https</th>\n",
       "      <th>profile_text_color</th>\n",
       "      <th>profile_image_url_https</th>\n",
       "      <th>profile_sidebar_border_color</th>\n",
       "      <th>profile_background_tile</th>\n",
       "      <th>profile_sidebar_fill_color</th>\n",
       "      <th>profile_background_image_url</th>\n",
       "      <th>profile_background_color</th>\n",
       "      <th>profile_link_color</th>\n",
       "      <th>utc_offset</th>\n",
       "      <th>is_translator</th>\n",
       "      <th>follow_request_sent</th>\n",
       "      <th>protected</th>\n",
       "      <th>verified</th>\n",
       "      <th>notifications</th>\n",
       "      <th>description</th>\n",
       "      <th>contributors_enabled</th>\n",
       "      <th>following</th>\n",
       "      <th>created_at</th>\n",
       "      <th>timestamp</th>\n",
       "      <th>crawled_at</th>\n",
       "      <th>updated</th>\n",
       "      <th>test_set_1</th>\n",
       "      <th>test_set_2</th>\n",
       "    </tr>\n",
       "  </thead>\n",
       "  <tbody>\n",
       "    <tr>\n",
       "      <th>0</th>\n",
       "      <td>1502026416</td>\n",
       "      <td>TASUKU HAYAKAWA</td>\n",
       "      <td>0918Bask</td>\n",
       "      <td>2177</td>\n",
       "      <td>208</td>\n",
       "      <td>332</td>\n",
       "      <td>265</td>\n",
       "      <td>1</td>\n",
       "      <td>NaN</td>\n",
       "      <td>ja</td>\n",
       "      <td>NaN</td>\n",
       "      <td>Tokyo .Japan .</td>\n",
       "      <td>NaN</td>\n",
       "      <td>NaN</td>\n",
       "      <td>1.0</td>\n",
       "      <td>http://pbs.twimg.com/profile_images/5887331863...</td>\n",
       "      <td>https://pbs.twimg.com/profile_banners/15020264...</td>\n",
       "      <td>NaN</td>\n",
       "      <td>https://abs.twimg.com/images/themes/theme1/bg.png</td>\n",
       "      <td>000000</td>\n",
       "      <td>https://pbs.twimg.com/profile_images/588733186...</td>\n",
       "      <td>000000</td>\n",
       "      <td>NaN</td>\n",
       "      <td>000000</td>\n",
       "      <td>http://abs.twimg.com/images/themes/theme1/bg.png</td>\n",
       "      <td>000000</td>\n",
       "      <td>EB0C1F</td>\n",
       "      <td>NaN</td>\n",
       "      <td>NaN</td>\n",
       "      <td>NaN</td>\n",
       "      <td>NaN</td>\n",
       "      <td>NaN</td>\n",
       "      <td>NaN</td>\n",
       "      <td>15years ago X.Lines24</td>\n",
       "      <td>NaN</td>\n",
       "      <td>NaN</td>\n",
       "      <td>Tue Jun 11 11:20:35 +0000 2013</td>\n",
       "      <td>2013-06-11 13:20:35</td>\n",
       "      <td>2015-05-02 06:41:46</td>\n",
       "      <td>2016-03-15 15:53:47</td>\n",
       "      <td>0</td>\n",
       "      <td>0</td>\n",
       "    </tr>\n",
       "  </tbody>\n",
       "</table>\n",
       "</div>"
      ],
      "text/plain": [
       "           id             name screen_name  statuses_count  followers_count  \\\n",
       "0  1502026416  TASUKU HAYAKAWA    0918Bask            2177              208   \n",
       "\n",
       "   friends_count  favourites_count  listed_count  url lang time_zone  \\\n",
       "0            332               265             1  NaN   ja       NaN   \n",
       "\n",
       "         location  default_profile  default_profile_image  geo_enabled  \\\n",
       "0  Tokyo .Japan .              NaN                    NaN          1.0   \n",
       "\n",
       "                                   profile_image_url  \\\n",
       "0  http://pbs.twimg.com/profile_images/5887331863...   \n",
       "\n",
       "                                  profile_banner_url  \\\n",
       "0  https://pbs.twimg.com/profile_banners/15020264...   \n",
       "\n",
       "   profile_use_background_image  \\\n",
       "0                           NaN   \n",
       "\n",
       "                  profile_background_image_url_https profile_text_color  \\\n",
       "0  https://abs.twimg.com/images/themes/theme1/bg.png             000000   \n",
       "\n",
       "                             profile_image_url_https  \\\n",
       "0  https://pbs.twimg.com/profile_images/588733186...   \n",
       "\n",
       "  profile_sidebar_border_color  profile_background_tile  \\\n",
       "0                       000000                      NaN   \n",
       "\n",
       "  profile_sidebar_fill_color  \\\n",
       "0                     000000   \n",
       "\n",
       "                       profile_background_image_url profile_background_color  \\\n",
       "0  http://abs.twimg.com/images/themes/theme1/bg.png                   000000   \n",
       "\n",
       "  profile_link_color  utc_offset  is_translator  follow_request_sent  \\\n",
       "0             EB0C1F         NaN            NaN                  NaN   \n",
       "\n",
       "   protected  verified  notifications            description  \\\n",
       "0        NaN       NaN            NaN  15years ago X.Lines24   \n",
       "\n",
       "   contributors_enabled  following                      created_at  \\\n",
       "0                   NaN        NaN  Tue Jun 11 11:20:35 +0000 2013   \n",
       "\n",
       "             timestamp           crawled_at              updated  test_set_1  \\\n",
       "0  2013-06-11 13:20:35  2015-05-02 06:41:46  2016-03-15 15:53:47           0   \n",
       "\n",
       "   test_set_2  \n",
       "0           0  "
      ]
     },
     "execution_count": 8,
     "metadata": {},
     "output_type": "execute_result"
    }
   ],
   "source": [
    "data1a.head(1)"
   ]
  },
  {
   "cell_type": "code",
   "execution_count": 9,
   "metadata": {},
   "outputs": [
    {
     "data": {
      "text/plain": [
       "Index(['id', 'text', 'source', 'user_id', 'truncated', 'in_reply_to_status_id',\n",
       "       'in_reply_to_user_id', 'in_reply_to_screen_name', 'retweeted_status_id',\n",
       "       'geo', 'place', 'contributors', 'retweet_count', 'reply_count',\n",
       "       'favorite_count', 'favorited', 'retweeted', 'possibly_sensitive',\n",
       "       'num_hashtags', 'num_urls', 'num_mentions', 'created_at', 'timestamp',\n",
       "       'crawled_at', 'updated'],\n",
       "      dtype='object')"
      ]
     },
     "execution_count": 9,
     "metadata": {},
     "output_type": "execute_result"
    }
   ],
   "source": [
    "data1.columns"
   ]
  },
  {
   "cell_type": "code",
   "execution_count": 10,
   "metadata": {},
   "outputs": [
    {
     "data": {
      "text/plain": [
       "Index(['id', 'name', 'screen_name', 'statuses_count', 'followers_count',\n",
       "       'friends_count', 'favourites_count', 'listed_count', 'url', 'lang',\n",
       "       'time_zone', 'location', 'default_profile', 'default_profile_image',\n",
       "       'geo_enabled', 'profile_image_url', 'profile_banner_url',\n",
       "       'profile_use_background_image', 'profile_background_image_url_https',\n",
       "       'profile_text_color', 'profile_image_url_https',\n",
       "       'profile_sidebar_border_color', 'profile_background_tile',\n",
       "       'profile_sidebar_fill_color', 'profile_background_image_url',\n",
       "       'profile_background_color', 'profile_link_color', 'utc_offset',\n",
       "       'is_translator', 'follow_request_sent', 'protected', 'verified',\n",
       "       'notifications', 'description', 'contributors_enabled', 'following',\n",
       "       'created_at', 'timestamp', 'crawled_at', 'updated', 'test_set_1',\n",
       "       'test_set_2'],\n",
       "      dtype='object')"
      ]
     },
     "execution_count": 10,
     "metadata": {},
     "output_type": "execute_result"
    }
   ],
   "source": [
    "data1a.columns"
   ]
  },
  {
   "cell_type": "markdown",
   "metadata": {},
   "source": [
    "It´s very importtant to understand the behavior of the users presented in datasets. for this, i will explore the tweets datasets, plotting some graphs."
   ]
  },
  {
   "cell_type": "code",
   "execution_count": 11,
   "metadata": {},
   "outputs": [
    {
     "name": "stdout",
     "output_type": "stream",
     "text": [
      "Statistics df1\n",
      "\n",
      " count    1083.000000\n",
      "mean     2621.755309\n",
      "std      1002.075176\n",
      "min         3.000000\n",
      "25%      2317.000000\n",
      "50%      3187.000000\n",
      "75%      3215.000000\n",
      "max      3250.000000\n",
      "Name: user_id, dtype: float64\n",
      "Statistics df2\n",
      "\n",
      " count     991.000000\n",
      "mean     1624.655903\n",
      "std       586.302142\n",
      "min       110.000000\n",
      "25%      1306.000000\n",
      "50%      1387.000000\n",
      "75%      1630.000000\n",
      "max      3248.000000\n",
      "Name: user_id, dtype: float64\n",
      "Statistics df3\n",
      "\n",
      " count    3457.000000\n",
      "mean      123.963552\n",
      "std       197.672937\n",
      "min        38.000000\n",
      "25%        91.000000\n",
      "50%       106.000000\n",
      "75%       121.000000\n",
      "max      3242.000000\n",
      "Name: user_id, dtype: float64\n",
      "Statistics df4\n",
      "\n",
      " count     464.000000\n",
      "mean     3057.234914\n",
      "std       614.696725\n",
      "min       111.000000\n",
      "25%      3209.000000\n",
      "50%      3223.000000\n",
      "75%      3238.000000\n",
      "max      3258.000000\n",
      "Name: user_id, dtype: float64\n",
      "Statistics df5\n",
      "\n",
      " count    1000.000000\n",
      "mean      145.094000\n",
      "std       495.793932\n",
      "min         1.000000\n",
      "25%         2.000000\n",
      "50%        16.000000\n",
      "75%        69.000000\n",
      "max      3200.000000\n",
      "Name: user_id, dtype: float64\n"
     ]
    }
   ],
   "source": [
    "for x in d.keys():\n",
    "    print ('Statistics '+x+'\\n\\n', d[x].user_id.value_counts().describe())\n"
   ]
  },
  {
   "cell_type": "code",
   "execution_count": 12,
   "metadata": {},
   "outputs": [],
   "source": [
    "#Adiciona Rotulo - Base GroundTruth\n",
    "#Genuine\n",
    "d['df1']['type'] = 0\n",
    "#Robos\n",
    "d['df2']['type'] = 1\n",
    "d['df3']['type'] = 2\n",
    "d['df4']['type'] = 3\n",
    "d['df5']['type'] = 4"
   ]
  },
  {
   "cell_type": "code",
   "execution_count": 13,
   "metadata": {},
   "outputs": [
    {
     "data": {
      "text/plain": [
       "<matplotlib.axes._subplots.AxesSubplot at 0x7f7108332320>"
      ]
     },
     "execution_count": 13,
     "metadata": {},
     "output_type": "execute_result"
    },
    {
     "data": {
      "image/png": "[encoded data removed]",
      "text/plain": [
       "<Figure size 720x720 with 6 Axes>"
      ]
     },
     "metadata": {
      "needs_background": "light"
     },
     "output_type": "display_data"
    }
   ],
   "source": [
    "#Histograms\n",
    "f, axes = plt.subplots(2, 3, figsize=(10, 10), sharex=True)\n",
    "sns.distplot( d['df1']['user_id'].value_counts() , color=\"skyblue\", axlabel =\"Genuine\",ax=axes[0, 0])\n",
    "sns.distplot( d['df2'][\"user_id\"].value_counts() , color=\"olive\", axlabel =\"SpamBot_1\",ax=axes[0, 1])\n",
    "sns.distplot( d['df3'][\"user_id\"].value_counts(), color=\"gold\",axlabel =\"SpamBot_2\", ax=axes[0, 2])\n",
    "sns.distplot( d['df4'][\"user_id\"].value_counts() , color=\"teal\",axlabel =\"SpamBot_3\", ax=axes[1, 0])\n",
    "sns.distplot( d['df5'][\"user_id\"].value_counts() , color=\"teal\", axlabel =\"TraditionalBot_1\",ax=axes[1, 1])\n"
   ]
  },
  {
   "cell_type": "code",
   "execution_count": 14,
   "metadata": {},
   "outputs": [
    {
     "data": {
      "text/plain": [
       "<matplotlib.axes._subplots.AxesSubplot at 0x7f71458d0d30>"
      ]
     },
     "execution_count": 14,
     "metadata": {},
     "output_type": "execute_result"
    },
    {
     "data": {
      "image/png": "[encoded data removed]",
      "text/plain": [
       "<Figure size 432x288 with 1 Axes>"
      ]
     },
     "metadata": {
      "needs_background": "light"
     },
     "output_type": "display_data"
    }
   ],
   "source": [
    "d['df1']['user_id'].value_counts().plot.box(grid='True')  "
   ]
  },
  {
   "cell_type": "code",
   "execution_count": 15,
   "metadata": {},
   "outputs": [
    {
     "data": {
      "text/plain": [
       "<matplotlib.axes._subplots.AxesSubplot at 0x7f7107f308d0>"
      ]
     },
     "execution_count": 15,
     "metadata": {},
     "output_type": "execute_result"
    },
    {
     "data": {
      "image/png": "[encoded data removed]",
      "text/plain": [
       "<Figure size 432x288 with 1 Axes>"
      ]
     },
     "metadata": {
      "needs_background": "light"
     },
     "output_type": "display_data"
    }
   ],
   "source": [
    "d['df2']['user_id'].value_counts().plot.box(grid='True')  \n"
   ]
  },
  {
   "cell_type": "code",
   "execution_count": 16,
   "metadata": {},
   "outputs": [
    {
     "data": {
      "text/plain": [
       "<matplotlib.axes._subplots.AxesSubplot at 0x7f7107e93c50>"
      ]
     },
     "execution_count": 16,
     "metadata": {},
     "output_type": "execute_result"
    },
    {
     "data": {
      "image/png": "[encoded data removed]",
      "text/plain": [
       "<Figure size 432x288 with 1 Axes>"
      ]
     },
     "metadata": {
      "needs_background": "light"
     },
     "output_type": "display_data"
    }
   ],
   "source": [
    "data3['user_id'].value_counts().plot.box(grid='True')  "
   ]
  },
  {
   "cell_type": "code",
   "execution_count": 17,
   "metadata": {},
   "outputs": [
    {
     "data": {
      "text/plain": [
       "<matplotlib.axes._subplots.AxesSubplot at 0x7f7107dfb128>"
      ]
     },
     "execution_count": 17,
     "metadata": {},
     "output_type": "execute_result"
    },
    {
     "data": {
      "image/png": "[encoded data removed]",
      "text/plain": [
       "<Figure size 432x288 with 1 Axes>"
      ]
     },
     "metadata": {
      "needs_background": "light"
     },
     "output_type": "display_data"
    }
   ],
   "source": [
    "data4['user_id'].value_counts().plot.box(grid='True')  "
   ]
  },
  {
   "cell_type": "code",
   "execution_count": 18,
   "metadata": {},
   "outputs": [
    {
     "data": {
      "text/plain": [
       "<matplotlib.axes._subplots.AxesSubplot at 0x7f7107dd14a8>"
      ]
     },
     "execution_count": 18,
     "metadata": {},
     "output_type": "execute_result"
    },
    {
     "data": {
      "image/png": "[encoded data removed]",
      "text/plain": [
       "<Figure size 432x288 with 1 Axes>"
      ]
     },
     "metadata": {
      "needs_background": "light"
     },
     "output_type": "display_data"
    }
   ],
   "source": [
    "data5['user_id'].value_counts().plot.box(grid='True')  "
   ]
  },
  {
   "cell_type": "code",
   "execution_count": 19,
   "metadata": {},
   "outputs": [
    {
     "data": {
      "text/plain": [
       "(6441589, 26)"
      ]
     },
     "execution_count": 19,
     "metadata": {},
     "output_type": "execute_result"
    }
   ],
   "source": [
    "tweets = pd.concat([d['df1'], d['df2'], d['df3'], d['df4'], d['df5']])\n",
    "tweets.shape"
   ]
  },
  {
   "cell_type": "code",
   "execution_count": 20,
   "metadata": {},
   "outputs": [
    {
     "name": "stdout",
     "output_type": "stream",
     "text": [
      "id                               0\n",
      "text                         12987\n",
      "source                          73\n",
      "user_id                          1\n",
      "truncated                  6440836\n",
      "in_reply_to_status_id            1\n",
      "in_reply_to_user_id              1\n",
      "in_reply_to_screen_name    5429614\n",
      "retweeted_status_id              1\n",
      "geo                        6441589\n",
      "place                      6314621\n",
      "contributors               6441589\n",
      "retweet_count                    1\n",
      "reply_count                      1\n",
      "favorite_count                   1\n",
      "favorited                  6441589\n",
      "retweeted                  6441589\n",
      "possibly_sensitive         6415386\n",
      "num_hashtags                     1\n",
      "num_urls                         1\n",
      "num_mentions                     1\n",
      "created_at                       1\n",
      "timestamp                        1\n",
      "crawled_at                       1\n",
      "updated                          1\n",
      "type                             0\n",
      "dtype: int64\n"
     ]
    }
   ],
   "source": [
    "#verifica situacao de missing data nos conjuntos de tweets\n",
    "print(tweets.isnull().sum(axis = 0))"
   ]
  },
  {
   "cell_type": "markdown",
   "metadata": {},
   "source": [
    "The Tweet object has a long list of ‘root-level’ attributes, including fundamental attributes such as id, created_at, and text. Thererofe, i will drop tweets that have this features as null"
   ]
  },
  {
   "cell_type": "code",
   "execution_count": 21,
   "metadata": {},
   "outputs": [],
   "source": [
    "#drop userid null\n",
    "tweets.dropna(subset=['user_id','text','id','created_at' ], inplace=True)"
   ]
  },
  {
   "cell_type": "code",
   "execution_count": 23,
   "metadata": {},
   "outputs": [],
   "source": [
    "#variaveis identificadas com problemas de missing e nao importantes foram excluidas. Outras preenchidas com vazio ou 0\n",
    "#pois sao importantes para A extracao de informacoes posterioes.\n",
    "columns= ['truncated','geo','place','contributors','crawled_at','updated', 'created_at', 'retweeted', 'favorited' ,'possibly_sensitive']\n",
    "tweets['in_reply_to_screen_name'].fillna(0, inplace=True)\n",
    "tweets['source'].fillna(\"\", inplace=True)\n",
    "tweets.drop(columns=columns, axis=1, inplace=True)\n"
   ]
  },
  {
   "cell_type": "code",
   "execution_count": 24,
   "metadata": {},
   "outputs": [
    {
     "name": "stdout",
     "output_type": "stream",
     "text": [
      "Shape all tweets and users (6428602, 16) unique users 6995\n"
     ]
    }
   ],
   "source": [
    "print(\"Shape all tweets and users\", tweets.shape, \"unique users\", tweets.drop_duplicates('user_id').shape[0])"
   ]
  },
  {
   "cell_type": "code",
   "execution_count": 25,
   "metadata": {},
   "outputs": [
    {
     "data": {
      "text/plain": [
       "<matplotlib.axes._subplots.AxesSubplot at 0x7f7107db60b8>"
      ]
     },
     "execution_count": 25,
     "metadata": {},
     "output_type": "execute_result"
    },
    {
     "data": {
      "image/png": "[encoded data removed]",
      "text/plain": [
       "<Figure size 432x288 with 1 Axes>"
      ]
     },
     "metadata": {
      "needs_background": "light"
     },
     "output_type": "display_data"
    }
   ],
   "source": [
    "tweets['user_id'].value_counts().plot.box(grid='True')  "
   ]
  },
  {
   "cell_type": "code",
   "execution_count": 26,
   "metadata": {},
   "outputs": [
    {
     "data": {
      "text/plain": [
       "<matplotlib.axes._subplots.AxesSubplot at 0x7f711ea3b828>"
      ]
     },
     "execution_count": 26,
     "metadata": {},
     "output_type": "execute_result"
    },
    {
     "data": {
      "image/png": "[encoded data removed]",
      "text/plain": [
       "<Figure size 432x288 with 1 Axes>"
      ]
     },
     "metadata": {
      "needs_background": "light"
     },
     "output_type": "display_data"
    }
   ],
   "source": [
    "tweets['user_id'].value_counts().hist(bins=100)  "
   ]
  },
  {
   "cell_type": "code",
   "execution_count": 27,
   "metadata": {},
   "outputs": [
    {
     "name": "stdout",
     "output_type": "stream",
     "text": [
      "min twiiter 129.0\n"
     ]
    }
   ],
   "source": [
    "#take o\n",
    "tweets['n_tweets']=tweets.groupby(['user_id'])['id'].transform('count')\n",
    "ts=np.quantile(tweets['n_tweets'].values, .05)\n",
    "tweets.drop(tweets[tweets.n_tweets < ts].index, inplace=True)\n",
    "print(\"min twiiter\",ts)"
   ]
  },
  {
   "cell_type": "markdown",
   "metadata": {},
   "source": [
    "#Base de dados de Tweets filtrada apenas com os usuarios do criterio acima - Manipulacao"
   ]
  },
  {
   "cell_type": "code",
   "execution_count": 28,
   "metadata": {},
   "outputs": [
    {
     "name": "stdout",
     "output_type": "stream",
     "text": [
      "Shape after cut off  (5144545, 17) unique users 2872\n"
     ]
    }
   ],
   "source": [
    "print(\"Shape after cut off \", tweets.shape, \"unique users\", tweets.drop_duplicates('user_id').shape[0])\n"
   ]
  },
  {
   "cell_type": "code",
   "execution_count": 29,
   "metadata": {},
   "outputs": [
    {
     "data": {
      "text/plain": [
       "<matplotlib.axes._subplots.AxesSubplot at 0x7f711e983518>"
      ]
     },
     "execution_count": 29,
     "metadata": {},
     "output_type": "execute_result"
    },
    {
     "data": {
      "image/png": "[encoded data removed]",
      "text/plain": [
       "<Figure size 432x288 with 1 Axes>"
      ]
     },
     "metadata": {
      "needs_background": "light"
     },
     "output_type": "display_data"
    }
   ],
   "source": [
    "tweets['user_id'].value_counts().hist(bins=100)  "
   ]
  },
  {
   "cell_type": "code",
   "execution_count": 30,
   "metadata": {},
   "outputs": [
    {
     "data": {
      "text/plain": [
       "0    996\n",
       "1    837\n",
       "2    489\n",
       "3    405\n",
       "4    145\n",
       "Name: type, dtype: int64"
      ]
     },
     "execution_count": 30,
     "metadata": {},
     "output_type": "execute_result"
    }
   ],
   "source": [
    "tweets.drop_duplicates('user_id')[\"type\"].value_counts()"
   ]
  },
  {
   "cell_type": "markdown",
   "metadata": {},
   "source": [
    "Antes de comecar, explicaremos alguns planos que nao farao parte, por hora, do foco da preparacao dos dados, mas podem ser incorporados. Importante confrontar essas informações limitadoras com o artigo da base de dados.\n",
    "\n",
    "poderia explorar a hora (periodo do dia) que o tweet é postado. Mas a base pode ter tweet de todo o mundo, com timezones diferentes. A hora do tweet é dado em duas variaveis: timestamp e created_at, 2 horas de diferencas uma da outra. O campo place e geo, que poderiam ajudar a definir a origem do tweet esta em sua maior parte nulo.\n",
    "\n",
    "podemos pensar em extrair mais features do texto do tweet, seguindo literatura de analise de conteudo de tweets. \n",
    "\n",
    "As informações poderão ser de sentimentos, baseado no uso de dicionarios. Mas com possui tweets de mais uma lingua, tera de verificar a existencia de dicioanarios nos idiomas da base.\n",
    "\n",
    "Termos positivos e Negativos: utilizar um dicionario de palavas positivas e negativas, criando variaveis binarias. Mesmo problema de idioma.\n",
    "\n",
    "Emoticons: presenca de emoticons no texto.\n",
    "\n",
    "Presenca de sinais que a literatura traz como importantes em algumas analise de tweets: exclamacao e interrogacao, principalmente no final do tweet.\n"
   ]
  },
  {
   "cell_type": "markdown",
   "metadata": {},
   "source": [
    "obs: A data em todas as bases e controlada pelo created_at, campo oficial da API, O data do traditionalbot esta em um formato desconhecido, dessa forma optoou-se em utilizar o timestamp,variavel do coletor utilizado pelo autor,  presente em todas as bases. O horario esta em um UTC com 2 horas a mais. Como o estudo naoo ira considerar o horario em si de um tweet, mas talvez a sua frequencia no tempo, nao foi corrigido. \n",
    "\n"
   ]
  },
  {
   "cell_type": "code",
   "execution_count": 31,
   "metadata": {},
   "outputs": [],
   "source": [
    "# converte datas tabelas de tweets e cria variaveis temporais - Dia - Mes e Ano \n",
    "tweets['timestamp'] = pd.to_datetime(tweets['timestamp'])\n",
    "tweets['year_month']=tweets['timestamp'].apply(lambda x: '{year}-{month}'.format(year=x.year, month=x.month))\n",
    "tweets['year_month_day']=tweets['timestamp'].apply(lambda x: '{year}-{month}-{day}'.format(year=x.year, month=x.month, day=x.day))\n",
    "tweets['year']=tweets['timestamp'].apply(lambda x: '{year}'.format(year=x.year))\n",
    "\n",
    "    \n",
    "\n"
   ]
  },
  {
   "cell_type": "code",
   "execution_count": 32,
   "metadata": {},
   "outputs": [
    {
     "data": {
      "text/plain": [
       "<matplotlib.axes._subplots.AxesSubplot at 0x7f71118d06a0>"
      ]
     },
     "execution_count": 32,
     "metadata": {},
     "output_type": "execute_result"
    },
    {
     "data": {
      "image/png": "[encoded data removed]",
      "text/plain": [
       "<Figure size 432x288 with 1 Axes>"
      ]
     },
     "metadata": {
      "needs_background": "light"
     },
     "output_type": "display_data"
    }
   ],
   "source": [
    "#meses mais ativos para cada amostra de 1 a 5\n",
    "tweets['year'].value_counts().sort_values(ascending=False).head(12).plot(kind='bar', title='Ano')"
   ]
  },
  {
   "cell_type": "markdown",
   "metadata": {},
   "source": [
    "Novas features da base tweets"
   ]
  },
  {
   "cell_type": "code",
   "execution_count": 33,
   "metadata": {},
   "outputs": [],
   "source": [
    "#Soma e media de caracateristicas dos tweets\n",
    "    #medias\n",
    "tweets['n_retweet_mean']=tweets.groupby(['user_id'])['retweet_count'].transform('mean')\n",
    "tweets['n_reply_mean']=tweets.groupby(['user_id'])['reply_count'].transform('mean')\n",
    "tweets['n_favorite_mean']=tweets.groupby(['user_id'])['favorite_count'].transform('mean')\n",
    "tweets['n_hashtags_mean']=tweets.groupby(['user_id'])['num_hashtags'].transform('mean')\n",
    "tweets['n_urls_mean']=tweets.groupby(['user_id'])['num_urls'].transform('mean')\n",
    "tweets['n_mentions_mean']=tweets.groupby(['user_id'])['num_mentions'].transform('mean')\n",
    "#tamanho do twitter\n",
    "tweets['size_twitter'] = tweets['text'].astype('str').apply(len)\n",
    "#indicador de diferencas de tamanho de um twiiter (dp) e media do tamanho\n",
    "tweets['media_size_twitter'] = tweets.groupby(['user_id'])['size_twitter'].transform('mean')\n",
    "#Desvio padrao do tamanho do twiiter - Indica variancia entre todos os tweets\n",
    "tweets['dp_size_twitter'] = tweets.groupby(['user_id'])['size_twitter'].transform('mad')"
   ]
  },
  {
   "cell_type": "code",
   "execution_count": 34,
   "metadata": {},
   "outputs": [],
   "source": [
    "#numero de tweets que sao reply de outro.\n",
    "numero_tweets_reply=\"\"\n",
    "numero_tweets_no_reply=\"\"\n",
    "tweets['in_reply_to_screen_name']=tweets['in_reply_to_screen_name'].map(lambda x : 1 if x!=0 else x)\n",
    "    #Calulando alguns valores\n",
    "numero_tweets_reply=tweets.groupby('user_id')['in_reply_to_screen_name'].transform('sum')\n",
    "numero_tweets_no_reply=tweets['n_tweets']-numero_tweets_reply\n",
    "    #Indices de tipo de tweet por total de tweets\n",
    "tweets['in_tweets_reply']=numero_tweets_reply/tweets['n_tweets']\n",
    "tweets['in_tweets_no_reply']= numero_tweets_no_reply/tweets['n_tweets']\n",
    "    "
   ]
  },
  {
   "cell_type": "code",
   "execution_count": 35,
   "metadata": {},
   "outputs": [],
   "source": [
    "#Primeiro Tweet, calcular apos mudanca de grao a distancia para data de criacao da conta (timestamp) em dias.\n",
    "tweets['first_tweet']=tweets.groupby('user_id')['timestamp'].transform('min')\n",
    "                                                                  \n",
    "\n",
    "       "
   ]
  },
  {
   "cell_type": "code",
   "execution_count": 36,
   "metadata": {},
   "outputs": [],
   "source": [
    "#variaveis temporais - (averiguar a criacao de uma varivel que representa a sequencia do twitter)\n",
    "aux=pd.DataFrame()\n",
    "tweets['n_tweet_dia']=tweets.groupby(['user_id','year_month_day'])['id'].transform('count') #Calculo do MAX. Dropar\n",
    "tweets['max_count_tweet_dia']=tweets.groupby('user_id')['n_tweet_dia'].transform('max') # Calculo do In_max. Dropar\n",
    "    #gera outras variaveis uteis no grao usuario\n",
    "tweets['in_tweet_max_dia']=tweets['max_count_tweet_dia']/tweets['n_tweets'] #n_tweets_do_dia_mais_postou/n_total_de_tweets\n",
    "tweets['count_dias_tweet']= tweets.groupby(['user_id'])['year_month_day'].transform(lambda x: x.nunique())#.apply(lambda  x: x.drop_duplicates('year_month_day')['year_month_day'].transform('value_counts')) #quantos dias usou o twiiter\n",
    "tweets['in_tweet_dia']=tweets['n_tweets']/tweets['count_dias_tweet'] #total de tweets/dia que usouo twitter\n",
    "    #drop variaveis que nao servirao e que foram criadas aqui\n",
    "    #d[x].drop(['n_tweet_dia', 'max_count_tweet_dia'], axis=1,inplace=True)"
   ]
  },
  {
   "cell_type": "code",
   "execution_count": 37,
   "metadata": {},
   "outputs": [],
   "source": [
    "#extrai source - Muito demorado\n",
    "#for x in d.keys():\n",
    "#for i in range(len(teste['source'])):\n",
    "#        m = re.search(r'(>.*)(.*)<', teste['source'][i])\n",
    "#        try:\n",
    "#            teste['source'][i]=m.group(0)\n",
    "#        except AttributeError:\n",
    "#            teste['source'][i]=teste['source'][i]\n",
    "        \n",
    "#tweetsa['source_new'] = tweetsa['source_new'].str.replace(''>' ', case=False)\n",
    "#d['df3']\n"
   ]
  },
  {
   "cell_type": "code",
   "execution_count": 38,
   "metadata": {},
   "outputs": [],
   "source": [
    "#exclui IDs, e features do grao tweet, nao necessarias apos a transformacao para o grao usuario\n",
    "colunas = ['id','text','source','retweeted_status_id','in_reply_to_status_id','in_reply_to_user_id','in_reply_to_screen_name',\n",
    "           'reply_count', 'retweet_count','favorite_count','num_hashtags','num_urls','num_mentions',\n",
    "           'size_twitter', 'timestamp','year_month_day', 'year_month','year','n_tweet_dia','max_count_tweet_dia']\n",
    "tweets.drop(columns= colunas, axis=1, inplace=True)\n"
   ]
  },
  {
   "cell_type": "code",
   "execution_count": 39,
   "metadata": {},
   "outputs": [
    {
     "data": {
      "text/plain": [
       "Index(['user_id', 'type', 'n_tweets', 'n_retweet_mean', 'n_reply_mean',\n",
       "       'n_favorite_mean', 'n_hashtags_mean', 'n_urls_mean', 'n_mentions_mean',\n",
       "       'media_size_twitter', 'dp_size_twitter', 'in_tweets_reply',\n",
       "       'in_tweets_no_reply', 'first_tweet', 'in_tweet_max_dia',\n",
       "       'count_dias_tweet', 'in_tweet_dia'],\n",
       "      dtype='object')"
      ]
     },
     "execution_count": 39,
     "metadata": {},
     "output_type": "execute_result"
    }
   ],
   "source": [
    "tweets.columns"
   ]
  },
  {
   "cell_type": "code",
   "execution_count": 41,
   "metadata": {},
   "outputs": [],
   "source": [
    "tweets.to_csv('tweets.csv', sep=',')"
   ]
  },
  {
   "cell_type": "markdown",
   "metadata": {},
   "source": [
    "#######################################################\n",
    "Base de dados User - Manipulacao"
   ]
  },
  {
   "cell_type": "code",
   "execution_count": 3,
   "metadata": {},
   "outputs": [],
   "source": [
    "#Users accounts\n",
    "data1a=pd.read_csv('genuine/users.csv', sep=',')\n",
    "data2a=pd.read_csv('social_spambots_1/users.csv', sep=',')\n",
    "data3a=pd.read_csv('social_spambots_2/users.csv', sep=',')\n",
    "data4a=pd.read_csv('social_spambots_3/users.csv', sep=',')\n",
    "data5a=pd.read_csv('traditional_spambots_1/users.csv', sep=',')"
   ]
  },
  {
   "cell_type": "code",
   "execution_count": 78,
   "metadata": {},
   "outputs": [],
   "source": [
    "da = {} \n",
    "da['df1a'] = data1a.copy()\n",
    "da['df2a'] = data2a.copy()\n",
    "da['df3a'] = data3a.copy()\n",
    "da['df4a'] = data4a.copy()\n",
    "da['df5a'] = data5a.copy()"
   ]
  },
  {
   "cell_type": "code",
   "execution_count": 79,
   "metadata": {},
   "outputs": [],
   "source": [
    "#drop colunas exclusivas  e desconhecidas de algumas bases das tabelas  de usuarios(Test_Set)\n",
    "da['df1a'].drop(['test_set_1', 'test_set_2'], axis=1, inplace=True)\n",
    "da['df2a'].drop(['test_set_1'], axis=1, inplace=True)\n",
    "da['df4a'].drop(['test_set_2'], axis=1, inplace=True)\n",
    "\n",
    "\n"
   ]
  },
  {
   "cell_type": "code",
   "execution_count": 80,
   "metadata": {},
   "outputs": [],
   "source": [
    "#Adiciona Rotulo - Base GroundTruth\n",
    "#Genuine\n",
    "da['df1a']['Alvo'] = 0\n",
    "#Robos\n",
    "da['df2a']['Alvo'] = 1\n",
    "da['df3a']['Alvo'] = 1\n",
    "da['df4a']['Alvo'] = 1\n",
    "da['df5a']['Alvo'] = 1\n"
   ]
  },
  {
   "cell_type": "code",
   "execution_count": 81,
   "metadata": {},
   "outputs": [],
   "source": [
    "#concatenar users\n",
    "users = pd.concat([da['df1a'], da['df2a'], da['df3a'], da['df4a'], da['df5a']])\n"
   ]
  },
  {
   "cell_type": "code",
   "execution_count": 82,
   "metadata": {},
   "outputs": [
    {
     "data": {
      "text/plain": [
       "(9386, 41)"
      ]
     },
     "execution_count": 82,
     "metadata": {},
     "output_type": "execute_result"
    }
   ],
   "source": [
    "users.shape\n"
   ]
  },
  {
   "cell_type": "code",
   "execution_count": 84,
   "metadata": {},
   "outputs": [
    {
     "name": "stdout",
     "output_type": "stream",
     "text": [
      "id                                       0\n",
      "name                                     1\n",
      "screen_name                              0\n",
      "statuses_count                           0\n",
      "followers_count                          0\n",
      "friends_count                            0\n",
      "favourites_count                         0\n",
      "listed_count                             0\n",
      "url                                   7439\n",
      "lang                                  1000\n",
      "time_zone                             5691\n",
      "location                              5966\n",
      "default_profile                       8016\n",
      "default_profile_image                 9326\n",
      "geo_enabled                           7179\n",
      "profile_image_url                        0\n",
      "profile_banner_url                    6087\n",
      "profile_use_background_image          1396\n",
      "profile_background_image_url_https    1000\n",
      "profile_text_color                    1000\n",
      "profile_image_url_https               1000\n",
      "profile_sidebar_border_color          1000\n",
      "profile_background_tile               4135\n",
      "profile_sidebar_fill_color            1000\n",
      "profile_background_image_url             0\n",
      "profile_background_color              1000\n",
      "profile_link_color                    1000\n",
      "utc_offset                            5691\n",
      "is_translator                         9385\n",
      "follow_request_sent                   9386\n",
      "protected                             9308\n",
      "verified                              9375\n",
      "notifications                         9386\n",
      "description                           4653\n",
      "contributors_enabled                  9386\n",
      "following                             9386\n",
      "created_at                               0\n",
      "timestamp                                0\n",
      "crawled_at                               0\n",
      "updated                                  0\n",
      "Alvo                                     0\n",
      "dtype: int64\n"
     ]
    }
   ],
   "source": [
    "#verifica missing\n",
    "print(users.isnull().sum(axis = 0))\n"
   ]
  },
  {
   "cell_type": "code",
   "execution_count": 85,
   "metadata": {},
   "outputs": [],
   "source": [
    "#drop tabelas de users atributos descontinuados de altissimo missing\n",
    "columns = ['following','utc_offset', 'time_zone', \"lang\", 'geo_enabled','follow_request_sent','notifications',\n",
    "'profile_background_image_url','profile_image_url','profile_background_color','profile_background_image_url_https',\n",
    "'profile_background_tile','profile_link_color','profile_sidebar_border_color','profile_sidebar_fill_color','profile_text_color',\n",
    "'profile_use_background_image','is_translator','contributors_enabled', 'updated', 'protected']\n",
    "users.drop(columns=columns, axis=1, inplace=True)\n",
    "\n"
   ]
  },
  {
   "cell_type": "markdown",
   "metadata": {},
   "source": [
    "obs: Utiliza o Timesstamp e nao a variavel oficial de tempo da API \"created_at\", pois A base df5a posui formato de data created_at desconhecido. A idade da conta sera calculada por meio da data de coleta e a data de criacao da conta. Idade na epoca da coleta."
   ]
  },
  {
   "cell_type": "code",
   "execution_count": 86,
   "metadata": {},
   "outputs": [],
   "source": [
    "#transforma a data de criacao e data de coleta das contas para formato data e calcula idade da conta \n",
    "users['timestamp'] = pd.to_datetime(users['timestamp'])\n",
    "users['age'] = pd.to_datetime(users['crawled_at'])-users['timestamp']\n",
    "users['age'] = users['age'].dt.days\n",
    "    #exclui crawled-at,\n",
    "users.drop('crawled_at', axis=1, inplace=True)\n",
    "    \n",
    "\n",
    "    "
   ]
  },
  {
   "cell_type": "code",
   "execution_count": 87,
   "metadata": {},
   "outputs": [],
   "source": [
    "#Variaveis que  por hora, só importam se possuem ou se não possuem.\n",
    "columns = ['url', 'location', 'default_profile', 'default_profile_image','profile_image_url_https','profile_banner_url', 'verified']\n",
    "users[columns]=users[columns].notnull().astype('int').astype('str')"
   ]
  },
  {
   "cell_type": "markdown",
   "metadata": {},
   "source": [
    "Novas features da base usuarios"
   ]
  },
  {
   "cell_type": "code",
   "execution_count": 88,
   "metadata": {},
   "outputs": [],
   "source": [
    "#features geradas a partir dos relacionamentos da conta\n",
    "#for x in da.keys():\n",
    "users['in_following_followers'] = users['friends_count']/users['followers_count']\n",
    "users['in_following_followers'].fillna(0,inplace=True)\n",
    "users['in_following_followers'].replace(np.inf, 0,inplace=True)\n",
    "    \n"
   ]
  },
  {
   "cell_type": "code",
   "execution_count": 89,
   "metadata": {},
   "outputs": [],
   "source": [
    "#da['df5a']['in_following_followers'].describe()"
   ]
  },
  {
   "cell_type": "code",
   "execution_count": 90,
   "metadata": {},
   "outputs": [],
   "source": [
    "#preenche com 0 twiiter sem descricao, sem nome de exibicao, sem url e sem locatiom,  para contagem e criacao de novas featuresn(tamanho do nome e da descricao)\n",
    "#for x in da.keys():\n",
    "users['description'].fillna(\"\",inplace=True)\n",
    "users['name'].fillna(\"\",inplace=True)\n",
    "#users['url']"
   ]
  },
  {
   "cell_type": "code",
   "execution_count": 119,
   "metadata": {},
   "outputs": [],
   "source": [
    "users['n_alfa_sname']=0\n",
    "users['n_number_sname']=0\n",
    "users['size_sname']=users['screen_name'].astype('str').apply(len)\n",
    "users['size_description']=users['description'].astype('str').apply(len)\n",
    "users['size_name']=users['name'].astype('str').apply(len)"
   ]
  },
  {
   "cell_type": "code",
   "execution_count": null,
   "metadata": {},
   "outputs": [],
   "source": [
    "i=0\n",
    "for y in users['screen_name']:\n",
    "    print(\"nome\",y)\n",
    "    a=n=0\n",
    "    for c in y:\n",
    "        print(\"caracter\",c)\n",
    "        s = c.isdigit()\n",
    "        if s: #se é digito, soma 1\n",
    "            n+=1\n",
    "        else:\n",
    "            a+=1\n",
    "        \n",
    "        print(\"numero\",n, \"alfa\",a)\n",
    "    print('antes',i)\n",
    "    users['n_alfa_sname'].iloc[i]=a    \n",
    "    users['n_number_sname'].iloc[i]=n\n",
    "    print('depois',i)\n",
    "    i+=1\n",
    "    print('prox pos',i)\n",
    "\n",
    "        "
   ]
  },
  {
   "cell_type": "code",
   "execution_count": null,
   "metadata": {},
   "outputs": [],
   "source": []
  },
  {
   "cell_type": "markdown",
   "metadata": {},
   "source": [
    "obs: criando indices pata quantidade de numeros nos nomes - Sera exluido a quantidae de alfa da base, e tb nao sera calculado o indice para esta variavel, pois tera uma alta correlacao com indice de numeros. (um aumenta o outro diminui). como a literatura diz que numeros podem identificar robos, preferiu-se manter essa informacao, atraves do seu idice (o n_number_sname tb sera excluido). Mas é importante mencionar que a informação da quantidade de alfa ja esta contida no indice de numeros, preservado na base."
   ]
  },
  {
   "cell_type": "code",
   "execution_count": 123,
   "metadata": {},
   "outputs": [],
   "source": [
    "#criacao indice de quantidade de numeros\n",
    "#for x in da.keys():\n",
    "users['in_number_sname'] = users['n_number_sname']/users['size_sname']\n"
   ]
  },
  {
   "cell_type": "code",
   "execution_count": 124,
   "metadata": {},
   "outputs": [],
   "source": [
    "#exclui outras features da tabela de usuarios que geraram outras variaveis pra representa-las - n_alfa_sname nem usou :(\n",
    "colunas = ['name', 'screen_name', 'created_at','description', 'n_alfa_sname' ,'n_number_sname', \n",
    "           'n_number_sname', 'n_alfa_sname']\n",
    "#for x in da.keys():\n",
    "users.drop(columns= colunas, axis=1, inplace=True)"
   ]
  },
  {
   "cell_type": "code",
   "execution_count": 125,
   "metadata": {},
   "outputs": [],
   "source": [
    "#renomeia id da base de usuarios para user_id (mesmo nome da tabela tweet)\n",
    "users.rename(columns= {'id': 'user_id'}, inplace=True)\n"
   ]
  },
  {
   "cell_type": "code",
   "execution_count": 126,
   "metadata": {},
   "outputs": [],
   "source": [
    "users.to_csv(\"users.cv\", sep=',')"
   ]
  },
  {
   "cell_type": "code",
   "execution_count": null,
   "metadata": {},
   "outputs": [],
   "source": [
    "#verificar a consistencia das variaveis, escolhido um usuario com poucos tweets e analisar se estao corretas\n",
    "#d[x].loc[d[x]['user_id']==105449543]"
   ]
  },
  {
   "cell_type": "markdown",
   "metadata": {},
   "source": [
    "Fim de tratamento individual das bases - Inicio Merge"
   ]
  },
  {
   "cell_type": "code",
   "execution_count": 127,
   "metadata": {},
   "outputs": [],
   "source": [
    "#coloca tabela tweets no grao users\n",
    "#for x in d.keys():\n",
    "tweets=tweets.drop_duplicates('user_id')\n"
   ]
  },
  {
   "cell_type": "code",
   "execution_count": 151,
   "metadata": {},
   "outputs": [],
   "source": [
    "################## ate aqui\n",
    "#merge das tabelas users com tweet \n",
    "database=pd.merge(users, tweets, on= 'user_id')\n"
   ]
  },
  {
   "cell_type": "code",
   "execution_count": 152,
   "metadata": {},
   "outputs": [
    {
     "data": {
      "text/plain": [
       "Index(['user_id', 'statuses_count', 'followers_count', 'friends_count',\n",
       "       'favourites_count', 'listed_count', 'url', 'location',\n",
       "       'default_profile', 'default_profile_image', 'profile_banner_url',\n",
       "       'profile_image_url_https', 'verified', 'timestamp', 'Alvo', 'age',\n",
       "       'in_following_followers', 'size_sname', 'size_description', 'size_name',\n",
       "       'in_number_sname', 'type', 'n_tweets', 'n_retweet_mean', 'n_reply_mean',\n",
       "       'n_favorite_mean', 'n_hashtags_mean', 'n_urls_mean', 'n_mentions_mean',\n",
       "       'media_size_twitter', 'dp_size_twitter', 'in_tweets_reply',\n",
       "       'in_tweets_no_reply', 'first_tweet', 'in_tweet_max_dia',\n",
       "       'count_dias_tweet', 'in_tweet_dia'],\n",
       "      dtype='object')"
      ]
     },
     "execution_count": 152,
     "metadata": {},
     "output_type": "execute_result"
    }
   ],
   "source": [
    "database.columns"
   ]
  },
  {
   "cell_type": "code",
   "execution_count": null,
   "metadata": {},
   "outputs": [],
   "source": [
    "#print('numero de linhas e colunas de cada base user+ tweet:', fdf1.shape, fdf2.shape, fdf3.shape, fdf4.shape, fdf5.shape)\n"
   ]
  },
  {
   "cell_type": "code",
   "execution_count": null,
   "metadata": {},
   "outputs": [],
   "source": [
    "#junta todas as bases em um unico database\n",
    "#database = pd.concat([fdf1, fdf2, fdf3, fdf4, fdf5])\n"
   ]
  },
  {
   "cell_type": "markdown",
   "metadata": {},
   "source": [
    "Cria variaveis que so e possivel agora que as bases estao juntas"
   ]
  },
  {
   "cell_type": "code",
   "execution_count": 153,
   "metadata": {},
   "outputs": [],
   "source": [
    "#cria tempo de espera pra primeiro tweet desde a criacao da conta e media de tweets pela idade da conta  e exclui timestamp\n",
    "database['tempo_inicio_uso'] = database['first_tweet'] - database['timestamp']\n",
    "database['tempo_inicio_uso'] =database['tempo_inicio_uso'].dt.days\n",
    "database['in_tweets_age']= database['n_tweets']/database['age']\n",
    "database['in_dias_tweet']= database['count_dias_tweet']/database['age'] #indice de uso do tt, dias de uso sobre a idade\n",
    "#cria meia de tweets pela idade da conta\n",
    "database.drop(['timestamp', 'first_tweet','count_dias_tweet'], axis=1, inplace=True) \n"
   ]
  },
  {
   "cell_type": "code",
   "execution_count": 154,
   "metadata": {},
   "outputs": [
    {
     "name": "stdout",
     "output_type": "stream",
     "text": [
      "tamanho database (2872, 37)\n"
     ]
    }
   ],
   "source": [
    "print('tamanho database',database.shape)\n",
    "database.head()\n",
    "database.to_csv('database.csv', sep=',')\n",
    "#data.loc[data['PatientId']== '822145925426128'].sort_values(by=['No-show'])\n",
    "#da['df1a']['screen_name'].loc[da['df1a']['user_id']==1502026416]\n",
    "#da['df1a'].head(10)"
   ]
  },
  {
   "cell_type": "code",
   "execution_count": 155,
   "metadata": {},
   "outputs": [],
   "source": [
    "#some old insigths\n",
    "#database[(database[\"followers_count\"]==0) & (database[\"friends_count\"]==0)].n_tweets"
   ]
  },
  {
   "cell_type": "code",
   "execution_count": null,
   "metadata": {},
   "outputs": [],
   "source": []
  },
  {
   "cell_type": "markdown",
   "metadata": {},
   "source": [
    "# AED - mais detalhada da base pronta"
   ]
  },
  {
   "cell_type": "code",
   "execution_count": 156,
   "metadata": {},
   "outputs": [],
   "source": [
    "#database.dtypes"
   ]
  },
  {
   "cell_type": "code",
   "execution_count": null,
   "metadata": {},
   "outputs": [],
   "source": [
    "#database.to_csv('database.csv', sep=',')\n",
    "#relacoes seguidores/amigos/tweets"
   ]
  },
  {
   "cell_type": "code",
   "execution_count": null,
   "metadata": {},
   "outputs": [],
   "source": [
    "#database=pd.read_csv('database.csv', sep=',')\n",
    "#database.drop('Unnamed: 0', inplace=True, axis=1)"
   ]
  },
  {
   "cell_type": "code",
   "execution_count": 159,
   "metadata": {},
   "outputs": [],
   "source": [
    "col =database.columns.to_list()#database.Alvo.astype('str', inplace=True, axis=1)\n",
    "col.insert(36, col.pop(col.index('Alvo')))\n",
    "database = database.reindex(columns= col)"
   ]
  },
  {
   "cell_type": "code",
   "execution_count": 161,
   "metadata": {},
   "outputs": [
    {
     "data": {
      "text/plain": [
       "Index(['user_id', 'statuses_count', 'followers_count', 'friends_count',\n",
       "       'favourites_count', 'listed_count', 'url', 'location',\n",
       "       'default_profile', 'default_profile_image', 'profile_banner_url',\n",
       "       'profile_image_url_https', 'verified', 'age', 'in_following_followers',\n",
       "       'size_sname', 'size_description', 'size_name', 'in_number_sname',\n",
       "       'type', 'n_tweets', 'n_retweet_mean', 'n_reply_mean', 'n_favorite_mean',\n",
       "       'n_hashtags_mean', 'n_urls_mean', 'n_mentions_mean',\n",
       "       'media_size_twitter', 'dp_size_twitter', 'in_tweets_reply',\n",
       "       'in_tweets_no_reply', 'in_tweet_max_dia', 'in_tweet_dia',\n",
       "       'tempo_inicio_uso', 'in_tweets_age', 'in_dias_tweet', 'Alvo'],\n",
       "      dtype='object')"
      ]
     },
     "execution_count": 161,
     "metadata": {},
     "output_type": "execute_result"
    }
   ],
   "source": [
    "database.columns"
   ]
  },
  {
   "cell_type": "code",
   "execution_count": null,
   "metadata": {},
   "outputs": [],
   "source": [
    "database.drop"
   ]
  },
  {
   "cell_type": "code",
   "execution_count": 186,
   "metadata": {},
   "outputs": [],
   "source": [
    "categorical = database.select_dtypes(include=['object']).columns\n",
    "numerical = database.select_dtypes(exclude=['object'])"
   ]
  },
  {
   "cell_type": "code",
   "execution_count": 190,
   "metadata": {},
   "outputs": [
    {
     "ename": "TypeError",
     "evalue": "unhashable type: 'list'",
     "output_type": "error",
     "traceback": [
      "\u001b[0;31m---------------------------------------------------------------------------\u001b[0m",
      "\u001b[0;31mTypeError\u001b[0m                                 Traceback (most recent call last)",
      "\u001b[0;32m<ipython-input-190-f890aeb2a4fa>\u001b[0m in \u001b[0;36m<module>\u001b[0;34m\u001b[0m\n\u001b[0;32m----> 1\u001b[0;31m \u001b[0mnumerical\u001b[0m\u001b[0;34m.\u001b[0m\u001b[0mdrop\u001b[0m\u001b[0;34m(\u001b[0m\u001b[0;34m[\u001b[0m\u001b[0;34m\"user_id\"\u001b[0m\u001b[0;34m]\u001b[0m\u001b[0;34m,\u001b[0m \u001b[0;34m[\u001b[0m\u001b[0;34m\"Alvo\"\u001b[0m\u001b[0;34m]\u001b[0m\u001b[0;34m,\u001b[0m \u001b[0minplace\u001b[0m\u001b[0;34m=\u001b[0m\u001b[0;32mTrue\u001b[0m\u001b[0;34m)\u001b[0m\u001b[0;31m#d[x][['id','user_id','year_mounth_day','first_tweet', 'n_tweet_dia']]\u001b[0m\u001b[0;34m\u001b[0m\u001b[0;34m\u001b[0m\u001b[0m\n\u001b[0m\u001b[1;32m      2\u001b[0m \u001b[0;31m#df.loc[:, 'C':'E']\u001b[0m\u001b[0;34m\u001b[0m\u001b[0;34m\u001b[0m\u001b[0;34m\u001b[0m\u001b[0m\n\u001b[1;32m      3\u001b[0m \u001b[0;31m#d[x].loc[d[x]['user_id']== 7248952].sort_values(by=['year_mounth_day'])[['id','user_id','year_mounth_day','first_tweet', 'n_tweet_dia']]\u001b[0m\u001b[0;34m\u001b[0m\u001b[0;34m\u001b[0m\u001b[0;34m\u001b[0m\u001b[0m\n",
      "\u001b[0;32m~/anaconda3/lib/python3.7/site-packages/pandas/core/frame.py\u001b[0m in \u001b[0;36mdrop\u001b[0;34m(self, labels, axis, index, columns, level, inplace, errors)\u001b[0m\n\u001b[1;32m   3938\u001b[0m                                            \u001b[0mindex\u001b[0m\u001b[0;34m=\u001b[0m\u001b[0mindex\u001b[0m\u001b[0;34m,\u001b[0m \u001b[0mcolumns\u001b[0m\u001b[0;34m=\u001b[0m\u001b[0mcolumns\u001b[0m\u001b[0;34m,\u001b[0m\u001b[0;34m\u001b[0m\u001b[0;34m\u001b[0m\u001b[0m\n\u001b[1;32m   3939\u001b[0m                                            \u001b[0mlevel\u001b[0m\u001b[0;34m=\u001b[0m\u001b[0mlevel\u001b[0m\u001b[0;34m,\u001b[0m \u001b[0minplace\u001b[0m\u001b[0;34m=\u001b[0m\u001b[0minplace\u001b[0m\u001b[0;34m,\u001b[0m\u001b[0;34m\u001b[0m\u001b[0;34m\u001b[0m\u001b[0m\n\u001b[0;32m-> 3940\u001b[0;31m                                            errors=errors)\n\u001b[0m\u001b[1;32m   3941\u001b[0m \u001b[0;34m\u001b[0m\u001b[0m\n\u001b[1;32m   3942\u001b[0m     @rewrite_axis_style_signature('mapper', [('copy', True),\n",
      "\u001b[0;32m~/anaconda3/lib/python3.7/site-packages/pandas/core/generic.py\u001b[0m in \u001b[0;36mdrop\u001b[0;34m(self, labels, axis, index, columns, level, inplace, errors)\u001b[0m\n\u001b[1;32m   3766\u001b[0m                 raise ValueError(\"Cannot specify both 'labels' and \"\n\u001b[1;32m   3767\u001b[0m                                  \"'index'/'columns'\")\n\u001b[0;32m-> 3768\u001b[0;31m             \u001b[0maxis_name\u001b[0m \u001b[0;34m=\u001b[0m \u001b[0mself\u001b[0m\u001b[0;34m.\u001b[0m\u001b[0m_get_axis_name\u001b[0m\u001b[0;34m(\u001b[0m\u001b[0maxis\u001b[0m\u001b[0;34m)\u001b[0m\u001b[0;34m\u001b[0m\u001b[0;34m\u001b[0m\u001b[0m\n\u001b[0m\u001b[1;32m   3769\u001b[0m             \u001b[0maxes\u001b[0m \u001b[0;34m=\u001b[0m \u001b[0;34m{\u001b[0m\u001b[0maxis_name\u001b[0m\u001b[0;34m:\u001b[0m \u001b[0mlabels\u001b[0m\u001b[0;34m}\u001b[0m\u001b[0;34m\u001b[0m\u001b[0;34m\u001b[0m\u001b[0m\n\u001b[1;32m   3770\u001b[0m         \u001b[0;32melif\u001b[0m \u001b[0mindex\u001b[0m \u001b[0;32mis\u001b[0m \u001b[0;32mnot\u001b[0m \u001b[0;32mNone\u001b[0m \u001b[0;32mor\u001b[0m \u001b[0mcolumns\u001b[0m \u001b[0;32mis\u001b[0m \u001b[0;32mnot\u001b[0m \u001b[0;32mNone\u001b[0m\u001b[0;34m:\u001b[0m\u001b[0;34m\u001b[0m\u001b[0;34m\u001b[0m\u001b[0m\n",
      "\u001b[0;32m~/anaconda3/lib/python3.7/site-packages/pandas/core/generic.py\u001b[0m in \u001b[0;36m_get_axis_name\u001b[0;34m(cls, axis)\u001b[0m\n\u001b[1;32m    363\u001b[0m     \u001b[0;34m@\u001b[0m\u001b[0mclassmethod\u001b[0m\u001b[0;34m\u001b[0m\u001b[0;34m\u001b[0m\u001b[0m\n\u001b[1;32m    364\u001b[0m     \u001b[0;32mdef\u001b[0m \u001b[0m_get_axis_name\u001b[0m\u001b[0;34m(\u001b[0m\u001b[0mcls\u001b[0m\u001b[0;34m,\u001b[0m \u001b[0maxis\u001b[0m\u001b[0;34m)\u001b[0m\u001b[0;34m:\u001b[0m\u001b[0;34m\u001b[0m\u001b[0;34m\u001b[0m\u001b[0m\n\u001b[0;32m--> 365\u001b[0;31m         \u001b[0maxis\u001b[0m \u001b[0;34m=\u001b[0m \u001b[0mcls\u001b[0m\u001b[0;34m.\u001b[0m\u001b[0m_AXIS_ALIASES\u001b[0m\u001b[0;34m.\u001b[0m\u001b[0mget\u001b[0m\u001b[0;34m(\u001b[0m\u001b[0maxis\u001b[0m\u001b[0;34m,\u001b[0m \u001b[0maxis\u001b[0m\u001b[0;34m)\u001b[0m\u001b[0;34m\u001b[0m\u001b[0;34m\u001b[0m\u001b[0m\n\u001b[0m\u001b[1;32m    366\u001b[0m         \u001b[0;32mif\u001b[0m \u001b[0misinstance\u001b[0m\u001b[0;34m(\u001b[0m\u001b[0maxis\u001b[0m\u001b[0;34m,\u001b[0m \u001b[0mstring_types\u001b[0m\u001b[0;34m)\u001b[0m\u001b[0;34m:\u001b[0m\u001b[0;34m\u001b[0m\u001b[0;34m\u001b[0m\u001b[0m\n\u001b[1;32m    367\u001b[0m             \u001b[0;32mif\u001b[0m \u001b[0maxis\u001b[0m \u001b[0;32min\u001b[0m \u001b[0mcls\u001b[0m\u001b[0;34m.\u001b[0m\u001b[0m_AXIS_NUMBERS\u001b[0m\u001b[0;34m:\u001b[0m\u001b[0;34m\u001b[0m\u001b[0;34m\u001b[0m\u001b[0m\n",
      "\u001b[0;31mTypeError\u001b[0m: unhashable type: 'list'"
     ]
    }
   ],
   "source": [
    "numerical.drop([\"user_id\"], [\"Alvo\"], inplace=True)#d[x][['id','user_id','year_mounth_day','first_tweet', 'n_tweet_dia']]\n",
    "#df.loc[:, 'C':'E']\n",
    "#d[x].loc[d[x]['user_id']== 7248952].sort_values(by=['year_mounth_day'])[['id','user_id','year_mounth_day','first_tweet', 'n_tweet_dia']]"
   ]
  },
  {
   "cell_type": "code",
   "execution_count": null,
   "metadata": {},
   "outputs": [],
   "source": [
    "colormap = plt.cm.magma\n",
    "plt.figure(figsize=(16,12))\n",
    "plt.title('Pearson correlation of continuous features', y=1.05, size=15)\n",
    "sns.heatmap(database[numerical].corr(),linewidths=0.1,vmax=1.0, square=True, \n",
    "            cmap=colormap, linecolor='white', annot=True)"
   ]
  },
  {
   "cell_type": "code",
   "execution_count": null,
   "metadata": {},
   "outputs": [],
   "source": [
    "for x in numerical:\n",
    "    print('variancia de ' +x+' e:', es.variance(database[x]))\n",
    "    "
   ]
  },
  {
   "cell_type": "code",
   "execution_count": null,
   "metadata": {},
   "outputs": [],
   "source": [
    "len(numerical)"
   ]
  },
  {
   "cell_type": "code",
   "execution_count": null,
   "metadata": {},
   "outputs": [],
   "source": [
    "database[numerical].hist(bins=15, figsize=(40, 25), layout=(5, 5))"
   ]
  },
  {
   "cell_type": "code",
   "execution_count": null,
   "metadata": {},
   "outputs": [],
   "source": [
    "fig, ax = plt.subplots(2, 4, figsize=(20, 10))\n",
    "for variable, subplot in zip(categorical, ax.flatten()):\n",
    "    sns.countplot(database[variable], ax=subplot)\n",
    "    for label in subplot.get_xticklabels():\n",
    "        label.set_rotation(90)"
   ]
  },
  {
   "cell_type": "code",
   "execution_count": null,
   "metadata": {},
   "outputs": [],
   "source": [
    "fig, ax = plt.subplots(2, 4, figsize=(15, 10))\n",
    "for var, subplot in zip(categorical, ax.flatten()):\n",
    "    sns.boxplot(x=var, y='n_tweets', data=database, ax=subplot)"
   ]
  },
  {
   "cell_type": "code",
   "execution_count": null,
   "metadata": {},
   "outputs": [],
   "source": [
    "fig, ax = plt.subplots(5, 5, figsize=(40, 30))\n",
    "for var, subplot in zip(numerical, ax.flatten()):\n",
    "    sns.boxplot(x='Alvo', y=var, data=database, ax=subplot)"
   ]
  },
  {
   "cell_type": "code",
   "execution_count": null,
   "metadata": {},
   "outputs": [],
   "source": [
    "database['Alvo_bi'] = database[\"Alvo\"]== 0\n",
    "x=database.sort_values(by =[\"n_hashtags_mean\"], axis = 0)\n"
   ]
  },
  {
   "cell_type": "code",
   "execution_count": null,
   "metadata": {},
   "outputs": [],
   "source": [
    "x.groupby('size_name').mean().Alvo_bi.plot()\n",
    "x.groupby('size_name').mean().Alvo.plot()\n",
    "\n",
    "plt.title(\"PATIENT NO-SHOW RATE vs WAIT\")\n",
    "plt.ylabel(\"NO-SHOW RATE\")\n",
    "plt.xlabel(\"WAIT\")\n",
    "plt.ylim(0,1)\n",
    "plt.show()"
   ]
  },
  {
   "cell_type": "code",
   "execution_count": null,
   "metadata": {},
   "outputs": [],
   "source": [
    "x.groupby('tempo_inicio_uso').mean().Alvo_bi.plot()\n",
    "x.groupby('tempo_inicio_uso').mean().Alvo.plot()\n",
    "\n",
    "plt.title(\"PATIENT NO-SHOW RATE vs WAIT\")\n",
    "plt.ylabel(\"NO-SHOW RATE\")\n",
    "plt.xlabel(\"WAIT\")\n",
    "plt.ylim(0,1)\n",
    "plt.show()"
   ]
  },
  {
   "cell_type": "code",
   "execution_count": null,
   "metadata": {},
   "outputs": [],
   "source": []
  },
  {
   "cell_type": "code",
   "execution_count": null,
   "metadata": {},
   "outputs": [],
   "source": [
    "database.drop('user_id', inplace=True, axis=1)\n",
    "database.columns.to_list()"
   ]
  },
  {
   "cell_type": "code",
   "execution_count": null,
   "metadata": {},
   "outputs": [],
   "source": [
    "#database.groupby('in_tweets_age').mean()\n",
    "X = database.values[:, 1:34]\n",
    "Y = database.values[:,35]"
   ]
  },
  {
   "cell_type": "markdown",
   "metadata": {},
   "source": []
  },
  {
   "cell_type": "code",
   "execution_count": null,
   "metadata": {},
   "outputs": [],
   "source": [
    "len(X)"
   ]
  },
  {
   "cell_type": "code",
   "execution_count": null,
   "metadata": {},
   "outputs": [],
   "source": []
  }
 ],
 "metadata": {
  "kernelspec": {
   "display_name": "Python 3",
   "language": "python",
   "name": "python3"
  },
  "language_info": {
   "codemirror_mode": {
    "name": "ipython",
    "version": 3
   },
   "file_extension": ".py",
   "mimetype": "text/x-python",
   "name": "python",
   "nbconvert_exporter": "python",
   "pygments_lexer": "ipython3",
   "version": "3.7.3"
  }
 },
 "nbformat": 4,
 "nbformat_minor": 2
}
