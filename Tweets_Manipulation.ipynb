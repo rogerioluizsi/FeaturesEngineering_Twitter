{
 "cells": [
  {
   "cell_type": "code",
   "execution_count": 1,
   "metadata": {},
   "outputs": [],
   "source": [
    "import pandas as pd\n",
    "import numpy as np\n",
    "import seaborn as sns\n",
    "import matplotlib.pyplot as plt\n",
    "#import plotly.graph_objs as go\n",
    "#import plotly.offline as py\n",
    "#import plotly.tools as tls\n",
    "#from statsmodels.stats import weightstats as stests\n",
    "from scipy import stats\n",
    "\n",
    "import datetime\n",
    "from datetime import datetime\n",
    "import statistics as es \n",
    "import csv\n",
    "import re \n",
    "import warnings\n",
    "warnings.filterwarnings('ignore')\n",
    "pd.set_option('display.max_columns', None)\n",
    "\n"
   ]
  },
  {
   "cell_type": "markdown",
   "metadata": {},
   "source": [
    "Managing only the datasets of these groups. The others groups avaliable on Paper don' t have  tweets information, only users.\n"
   ]
  },
  {
   "cell_type": "code",
   "execution_count": 2,
   "metadata": {},
   "outputs": [],
   "source": [
    "#Tweets of datasets\n",
    "data1=pd.read_csv('genuine/tweets.csv', sep=',')\n",
    "data2=pd.read_csv('social_spambots_1/tweets.csv', sep=',')\n",
    "data3=pd.read_csv('social_spambots_2/tweets.csv', sep=',')\n",
    "data4=pd.read_csv('social_spambots_3/tweets.csv', sep=',')\n",
    "data5=pd.read_csv('traditional_spambots_1/tweets.csv', sep=',')"
   ]
  },
  {
   "cell_type": "markdown",
   "metadata": {},
   "source": [
    "Get some idea from users and tweet's datasets. I'll show some informations"
   ]
  },
  {
   "cell_type": "code",
   "execution_count": 3,
   "metadata": {},
   "outputs": [
    {
     "data": {
      "text/plain": [
       "dict_keys(['df1', 'df2', 'df3', 'df4', 'df5'])"
      ]
     },
     "execution_count": 3,
     "metadata": {},
     "output_type": "execute_result"
    }
   ],
   "source": [
    "#To take easy the handling, i will transform the datasets in python dictionary\n",
    "#tweets\n",
    "d = {} \n",
    "d['df1'] = data1.copy()\n",
    "d['df2'] = data2.copy()\n",
    "d['df3'] = data3.copy()\n",
    "d['df4'] = data4.copy()\n",
    "d['df5'] = data5.copy()\n",
    "d.keys() \n",
    "#Users\n",
    "\n"
   ]
  },
  {
   "cell_type": "code",
   "execution_count": 4,
   "metadata": {},
   "outputs": [
    {
     "name": "stdout",
     "output_type": "stream",
     "text": [
      "Shape of  df1  (2839362, 25) unique users 1084\n",
      "Shape of  df2  (1610034, 25) unique users 991\n",
      "Shape of  df3  (428542, 25) unique users 3457\n",
      "Shape of  df4  (1418557, 25) unique users 464\n",
      "Shape of  df5  (145094, 25) unique users 1000\n"
     ]
    }
   ],
   "source": [
    "for x in d.keys():\n",
    "      print(\"Shape of  \"+x+\" \", d[x].shape, \"unique users\", d[x].drop_duplicates('user_id').shape[0])"
   ]
  },
  {
   "cell_type": "code",
   "execution_count": 5,
   "metadata": {},
   "outputs": [
    {
     "data": {
      "text/html": [
       "<div>\n",
       "<style scoped>\n",
       "    .dataframe tbody tr th:only-of-type {\n",
       "        vertical-align: middle;\n",
       "    }\n",
       "\n",
       "    .dataframe tbody tr th {\n",
       "        vertical-align: top;\n",
       "    }\n",
       "\n",
       "    .dataframe thead th {\n",
       "        text-align: right;\n",
       "    }\n",
       "</style>\n",
       "<table border=\"1\" class=\"dataframe\">\n",
       "  <thead>\n",
       "    <tr style=\"text-align: right;\">\n",
       "      <th></th>\n",
       "      <th>id</th>\n",
       "      <th>text</th>\n",
       "      <th>source</th>\n",
       "      <th>user_id</th>\n",
       "      <th>truncated</th>\n",
       "      <th>in_reply_to_status_id</th>\n",
       "      <th>in_reply_to_user_id</th>\n",
       "      <th>in_reply_to_screen_name</th>\n",
       "      <th>retweeted_status_id</th>\n",
       "      <th>geo</th>\n",
       "      <th>place</th>\n",
       "      <th>contributors</th>\n",
       "      <th>retweet_count</th>\n",
       "      <th>reply_count</th>\n",
       "      <th>favorite_count</th>\n",
       "      <th>favorited</th>\n",
       "      <th>retweeted</th>\n",
       "      <th>possibly_sensitive</th>\n",
       "      <th>num_hashtags</th>\n",
       "      <th>num_urls</th>\n",
       "      <th>num_mentions</th>\n",
       "      <th>created_at</th>\n",
       "      <th>timestamp</th>\n",
       "      <th>crawled_at</th>\n",
       "      <th>updated</th>\n",
       "    </tr>\n",
       "  </thead>\n",
       "  <tbody>\n",
       "    <tr>\n",
       "      <th>0</th>\n",
       "      <td>593932392663912449</td>\n",
       "      <td>RT @morningJewshow: Speaking about Jews and co...</td>\n",
       "      <td>&lt;a href=\"http://tapbots.com/tweetbot\" rel=\"nof...</td>\n",
       "      <td>678033.0</td>\n",
       "      <td>NaN</td>\n",
       "      <td>0.0</td>\n",
       "      <td>0.0</td>\n",
       "      <td>NaN</td>\n",
       "      <td>5.939322e+17</td>\n",
       "      <td>NaN</td>\n",
       "      <td>NaN</td>\n",
       "      <td>NaN</td>\n",
       "      <td>1.0</td>\n",
       "      <td>0.0</td>\n",
       "      <td>0.0</td>\n",
       "      <td>NaN</td>\n",
       "      <td>NaN</td>\n",
       "      <td>NaN</td>\n",
       "      <td>0.0</td>\n",
       "      <td>0.0</td>\n",
       "      <td>1.0</td>\n",
       "      <td>Fri May 01 00:18:11 +0000 2015</td>\n",
       "      <td>2015-05-01 02:18:11</td>\n",
       "      <td>2015-05-01 12:57:19</td>\n",
       "      <td>2015-05-01 12:57:19</td>\n",
       "    </tr>\n",
       "    <tr>\n",
       "      <th>1</th>\n",
       "      <td>593895316719423488</td>\n",
       "      <td>This age/face recognition thing..no reason pla...</td>\n",
       "      <td>&lt;a href=\"http://twitter.com\" rel=\"nofollow\"&gt;Tw...</td>\n",
       "      <td>678033.0</td>\n",
       "      <td>NaN</td>\n",
       "      <td>0.0</td>\n",
       "      <td>0.0</td>\n",
       "      <td>NaN</td>\n",
       "      <td>0.000000e+00</td>\n",
       "      <td>NaN</td>\n",
       "      <td>NaN</td>\n",
       "      <td>NaN</td>\n",
       "      <td>0.0</td>\n",
       "      <td>0.0</td>\n",
       "      <td>0.0</td>\n",
       "      <td>NaN</td>\n",
       "      <td>NaN</td>\n",
       "      <td>NaN</td>\n",
       "      <td>0.0</td>\n",
       "      <td>0.0</td>\n",
       "      <td>0.0</td>\n",
       "      <td>Thu Apr 30 21:50:52 +0000 2015</td>\n",
       "      <td>2015-04-30 23:50:52</td>\n",
       "      <td>2015-05-01 12:57:19</td>\n",
       "      <td>2015-05-01 12:57:19</td>\n",
       "    </tr>\n",
       "    <tr>\n",
       "      <th>2</th>\n",
       "      <td>593880638069018624</td>\n",
       "      <td>Only upside of the moment I can think of is th...</td>\n",
       "      <td>&lt;a href=\"http://twitter.com\" rel=\"nofollow\"&gt;Tw...</td>\n",
       "      <td>678033.0</td>\n",
       "      <td>NaN</td>\n",
       "      <td>0.0</td>\n",
       "      <td>0.0</td>\n",
       "      <td>NaN</td>\n",
       "      <td>0.000000e+00</td>\n",
       "      <td>NaN</td>\n",
       "      <td>NaN</td>\n",
       "      <td>NaN</td>\n",
       "      <td>0.0</td>\n",
       "      <td>0.0</td>\n",
       "      <td>0.0</td>\n",
       "      <td>NaN</td>\n",
       "      <td>NaN</td>\n",
       "      <td>NaN</td>\n",
       "      <td>2.0</td>\n",
       "      <td>0.0</td>\n",
       "      <td>0.0</td>\n",
       "      <td>Thu Apr 30 20:52:32 +0000 2015</td>\n",
       "      <td>2015-04-30 22:52:32</td>\n",
       "      <td>2015-05-01 12:57:19</td>\n",
       "      <td>2015-05-01 12:57:19</td>\n",
       "    </tr>\n",
       "  </tbody>\n",
       "</table>\n",
       "</div>"
      ],
      "text/plain": [
       "                   id                                               text  \\\n",
       "0  593932392663912449  RT @morningJewshow: Speaking about Jews and co...   \n",
       "1  593895316719423488  This age/face recognition thing..no reason pla...   \n",
       "2  593880638069018624  Only upside of the moment I can think of is th...   \n",
       "\n",
       "                                              source   user_id  truncated  \\\n",
       "0  <a href=\"http://tapbots.com/tweetbot\" rel=\"nof...  678033.0        NaN   \n",
       "1  <a href=\"http://twitter.com\" rel=\"nofollow\">Tw...  678033.0        NaN   \n",
       "2  <a href=\"http://twitter.com\" rel=\"nofollow\">Tw...  678033.0        NaN   \n",
       "\n",
       "   in_reply_to_status_id  in_reply_to_user_id in_reply_to_screen_name  \\\n",
       "0                    0.0                  0.0                     NaN   \n",
       "1                    0.0                  0.0                     NaN   \n",
       "2                    0.0                  0.0                     NaN   \n",
       "\n",
       "   retweeted_status_id  geo place  contributors  retweet_count  reply_count  \\\n",
       "0         5.939322e+17  NaN   NaN           NaN            1.0          0.0   \n",
       "1         0.000000e+00  NaN   NaN           NaN            0.0          0.0   \n",
       "2         0.000000e+00  NaN   NaN           NaN            0.0          0.0   \n",
       "\n",
       "   favorite_count  favorited  retweeted  possibly_sensitive  num_hashtags  \\\n",
       "0             0.0        NaN        NaN                 NaN           0.0   \n",
       "1             0.0        NaN        NaN                 NaN           0.0   \n",
       "2             0.0        NaN        NaN                 NaN           2.0   \n",
       "\n",
       "   num_urls  num_mentions                      created_at  \\\n",
       "0       0.0           1.0  Fri May 01 00:18:11 +0000 2015   \n",
       "1       0.0           0.0  Thu Apr 30 21:50:52 +0000 2015   \n",
       "2       0.0           0.0  Thu Apr 30 20:52:32 +0000 2015   \n",
       "\n",
       "             timestamp           crawled_at              updated  \n",
       "0  2015-05-01 02:18:11  2015-05-01 12:57:19  2015-05-01 12:57:19  \n",
       "1  2015-04-30 23:50:52  2015-05-01 12:57:19  2015-05-01 12:57:19  \n",
       "2  2015-04-30 22:52:32  2015-05-01 12:57:19  2015-05-01 12:57:19  "
      ]
     },
     "execution_count": 5,
     "metadata": {},
     "output_type": "execute_result"
    }
   ],
   "source": [
    "data1.head(3)"
   ]
  },
  {
   "cell_type": "code",
   "execution_count": 6,
   "metadata": {},
   "outputs": [
    {
     "data": {
      "text/plain": [
       "Index(['id', 'text', 'source', 'user_id', 'truncated', 'in_reply_to_status_id',\n",
       "       'in_reply_to_user_id', 'in_reply_to_screen_name', 'retweeted_status_id',\n",
       "       'geo', 'place', 'contributors', 'retweet_count', 'reply_count',\n",
       "       'favorite_count', 'favorited', 'retweeted', 'possibly_sensitive',\n",
       "       'num_hashtags', 'num_urls', 'num_mentions', 'created_at', 'timestamp',\n",
       "       'crawled_at', 'updated'],\n",
       "      dtype='object')"
      ]
     },
     "execution_count": 6,
     "metadata": {},
     "output_type": "execute_result"
    }
   ],
   "source": [
    "#example of columns\n",
    "data1.columns"
   ]
  },
  {
   "cell_type": "code",
   "execution_count": 7,
   "metadata": {},
   "outputs": [],
   "source": [
    "#Adding group type -\n",
    "#Genuine\n",
    "d['df1']['type'] = 0\n",
    "#bots\n",
    "d['df2']['type'] = 1\n",
    "d['df3']['type'] = 2\n",
    "d['df4']['type'] = 3\n",
    "d['df5']['type'] = 4"
   ]
  },
  {
   "cell_type": "markdown",
   "metadata": {},
   "source": [
    "It´s very importtant to understand the behavior of the users presented in datasets. for this, i will explore the tweets datasets, plotting some graphs."
   ]
  },
  {
   "cell_type": "code",
   "execution_count": 8,
   "metadata": {},
   "outputs": [
    {
     "data": {
      "text/plain": [
       "<matplotlib.axes._subplots.AxesSubplot at 0x7fba7b38c8d0>"
      ]
     },
     "execution_count": 8,
     "metadata": {},
     "output_type": "execute_result"
    },
    {
     "data": {
      "image/png": "[encoded data removed]",
      "text/plain": [
       "<Figure size 1440x1440 with 6 Axes>"
      ]
     },
     "metadata": {
      "needs_background": "light"
     },
     "output_type": "display_data"
    }
   ],
   "source": [
    "#Histograms\n",
    "f, axes = plt.subplots(2, 3, figsize=(20, 20), sharex=True)\n",
    "sns.distplot( d['df1']['user_id'].value_counts() , color=\"skyblue\", axlabel =\"Genuine\",ax=axes[0, 0])\n",
    "sns.distplot( d['df2'][\"user_id\"].value_counts() , color=\"olive\", axlabel =\"SpamBot_1\",ax=axes[0, 1])\n",
    "sns.distplot( d['df3'][\"user_id\"].value_counts(), color=\"gold\",axlabel =\"SpamBot_2\", ax=axes[0, 2])\n",
    "sns.distplot( d['df4'][\"user_id\"].value_counts() , color=\"teal\",axlabel =\"SpamBot_3\", ax=axes[1, 0])\n",
    "sns.distplot( d['df5'][\"user_id\"].value_counts() , color=\"teal\", axlabel =\"TraditionalBot_1\",ax=axes[1, 1])\n"
   ]
  },
  {
   "cell_type": "markdown",
   "metadata": {},
   "source": [
    "Concatening all groups"
   ]
  },
  {
   "cell_type": "code",
   "execution_count": 9,
   "metadata": {},
   "outputs": [
    {
     "data": {
      "text/plain": [
       "(6441589, 26)"
      ]
     },
     "execution_count": 9,
     "metadata": {},
     "output_type": "execute_result"
    }
   ],
   "source": [
    "tweets = pd.concat([d['df1'], d['df2'], d['df3'], d['df4'], d['df5']])\n",
    "tweets.shape"
   ]
  },
  {
   "cell_type": "code",
   "execution_count": 10,
   "metadata": {},
   "outputs": [
    {
     "name": "stdout",
     "output_type": "stream",
     "text": [
      "object\n",
      "object\n"
     ]
    }
   ],
   "source": [
    "#transform id´s in object\n",
    "tweets.user_id=tweets.user_id.astype(str)\n",
    "tweets.id=tweets.id.astype(str)\n",
    "print(tweets.id.dtypes)\n",
    "print(tweets.user_id.dtypes)"
   ]
  },
  {
   "cell_type": "code",
   "execution_count": 11,
   "metadata": {},
   "outputs": [],
   "source": [
    "#Creating number of tweets columns\n",
    "tweets['n_tweets']=tweets.groupby(['user_id'])['id'].transform('count')"
   ]
  },
  {
   "cell_type": "code",
   "execution_count": 12,
   "metadata": {},
   "outputs": [],
   "source": [
    "#to better descriptive plot\n",
    "tweets.loc[tweets.type!=0, \"Class\"] = 'Bot'\n",
    "tweets.loc[tweets.type==0,'Class']= 'Genuino'"
   ]
  },
  {
   "cell_type": "code",
   "execution_count": 13,
   "metadata": {},
   "outputs": [
    {
     "name": "stdout",
     "output_type": "stream",
     "text": [
      "proporcao de Bots 0.5592140386479174\n"
     ]
    },
    {
     "data": {
      "image/png": "[encoded data removed]",
      "text/plain": [
       "<Figure size 432x288 with 1 Axes>"
      ]
     },
     "metadata": {
      "needs_background": "light"
     },
     "output_type": "display_data"
    }
   ],
   "source": [
    "#Proporcao de bots e genuinos\n",
    "tweets['Class'].value_counts().plot(kind='bar', title= \"Distribuição das Classe\")\n",
    "print(\"proporcao de Bots\",tweets[tweets['Class']=='Bot']['id'].count()/tweets.shape[0])"
   ]
  },
  {
   "cell_type": "code",
   "execution_count": 14,
   "metadata": {},
   "outputs": [],
   "source": [
    "x1=tweets[tweets.type==0]['user_id'].value_counts()\n",
    "x2=tweets[tweets.type!=0]['user_id'].value_counts()"
   ]
  },
  {
   "cell_type": "code",
   "execution_count": 18,
   "metadata": {},
   "outputs": [
    {
     "data": {
      "image/png": "[encoded data removed]",
      "text/plain": [
       "<Figure size 432x288 with 1 Axes>"
      ]
     },
     "metadata": {
      "needs_background": "light"
     },
     "output_type": "display_data"
    }
   ],
   "source": [
    "sns.kdeplot(x2, color=\"steelblue\", label= \"Bots\")\n",
    "sns.kdeplot(x1, color=\"darkorange\", label=\"Genuínos\")\n",
    "plt.xlabel('Usuários', fontsize=14)\n",
    "plt.ylabel('Frequência', fontsize=14)\n",
    "plt.savefig('figures/hist.png')\n"
   ]
  },
  {
   "cell_type": "code",
   "execution_count": 27,
   "metadata": {},
   "outputs": [
    {
     "data": {
      "image/png": "[encoded data removed]",
      "text/plain": [
       "<Figure size 432x288 with 1 Axes>"
      ]
     },
     "metadata": {
      "needs_background": "light"
     },
     "output_type": "display_data"
    }
   ],
   "source": [
    "plt.figure()\n",
    "#line, = ax.plot([1, 2, 3], label='Inline label')\n",
    "labels= [\"Bots\",\"Genuínos\"]\n",
    "#colors = ['orange', 'Blue']\n",
    "plt.hist([x2,x1],bins=20, density=1,label=labels, alpha=1)\n",
    "plt.legend(labels)\n",
    "plt.xlabel(\"Usuários\", fontsize=14) \n",
    "plt.ylabel(\"Tweets\", fontsize=14)  \n",
    "#plt.show()\n"
   ]
  },
  {
   "cell_type": "code",
   "execution_count": 18,
   "metadata": {},
   "outputs": [
    {
     "data": {
      "image/png": "[encoded data removed]",
      "text/plain": [
       "<Figure size 432x288 with 1 Axes>"
      ]
     },
     "metadata": {
      "needs_background": "light"
     },
     "output_type": "display_data"
    }
   ],
   "source": [
    "#Stack the data in log scale, to better visualization.\n",
    "plt.figure()\n",
    "#line, = ax.plot([1, 2, 3], label='Inline label')\n",
    "labels= [\"Bots\",\"Genuínos\"]\n",
    "colors = ['blue', 'orange']\n",
    "plt.hist([x2,x1],bins=25, density=1, label=labels, log=True, alpha=1)\n",
    "plt.legend(labels)\n",
    "plt.xlabel(\"Usuários\", fontsize=14) \n",
    "plt.ylabel(\"Frequência (escala log 10)\", fontsize=14)  \n",
    "plt.savefig('figures/hist_log10.png')\n",
    "plt.show()\n"
   ]
  },
  {
   "cell_type": "code",
   "execution_count": 27,
   "metadata": {},
   "outputs": [
    {
     "name": "stdout",
     "output_type": "stream",
     "text": [
      "id                               0\n",
      "text                         12987\n",
      "source                          73\n",
      "user_id                          0\n",
      "truncated                  6440836\n",
      "in_reply_to_status_id            1\n",
      "in_reply_to_user_id              1\n",
      "in_reply_to_screen_name    5429614\n",
      "retweeted_status_id              1\n",
      "geo                        6441589\n",
      "place                      6314621\n",
      "contributors               6441589\n",
      "retweet_count                    1\n",
      "reply_count                      1\n",
      "favorite_count                   1\n",
      "favorited                  6441589\n",
      "retweeted                  6441589\n",
      "possibly_sensitive         6415386\n",
      "num_hashtags                     1\n",
      "num_urls                         1\n",
      "num_mentions                     1\n",
      "created_at                       1\n",
      "timestamp                        1\n",
      "crawled_at                       1\n",
      "updated                          1\n",
      "type                             0\n",
      "n_tweets                         0\n",
      "Class                            0\n",
      "dtype: int64\n"
     ]
    }
   ],
   "source": [
    "#verifica situacao de missing data nos conjuntos de tweets\n",
    "print(tweets.isnull().sum(axis = 0))"
   ]
  },
  {
   "cell_type": "code",
   "execution_count": 28,
   "metadata": {},
   "outputs": [],
   "source": [
    "#drop userid null\n",
    "tweets.dropna(subset=['user_id','text','id','created_at' ], inplace=True)"
   ]
  },
  {
   "cell_type": "markdown",
   "metadata": {},
   "source": [
    "Features with a lot of missing data and deprecated was droped.  Anothers, than have some important informations about its presence, was missing values filled by 0 or \"\".\n"
   ]
  },
  {
   "cell_type": "code",
   "execution_count": 29,
   "metadata": {},
   "outputs": [],
   "source": [
    "columns= ['truncated','geo','place','contributors','crawled_at','updated', 'created_at', 'retweeted', 'favorited' ,'possibly_sensitive','reply_count']\n",
    "tweets['in_reply_to_screen_name'].fillna(0, inplace=True)\n",
    "tweets['source'].fillna(\"\", inplace=True)\n",
    "tweets.drop(columns=columns, axis=1, inplace=True)\n"
   ]
  },
  {
   "cell_type": "markdown",
   "metadata": {},
   "source": [
    "# Filter - Sample"
   ]
  },
  {
   "cell_type": "markdown",
   "metadata": {},
   "source": [
    "It has many unique tweets. To understand the behavior of the bot, it is necessary to have enought critical mass. That way, I'm going to sample 200 tweets for each user. First, I'll drop all users who have less than 200, hence a random sampling of the remaining ones.\n",
    "\n"
   ]
  },
  {
   "cell_type": "code",
   "execution_count": 30,
   "metadata": {},
   "outputs": [],
   "source": [
    "tweets = tweets[(tweets.n_tweets >= 200)]"
   ]
  },
  {
   "cell_type": "code",
   "execution_count": 31,
   "metadata": {},
   "outputs": [
    {
     "name": "stdout",
     "output_type": "stream",
     "text": [
      "min twiiter 200 : quantify tweets 6040225 of:  2682 unique users:\n"
     ]
    }
   ],
   "source": [
    "print(\"min twiiter\",tweets.n_tweets.min(), ': quantify tweets',tweets.shape[0], \"of: \", tweets.drop_duplicates('user_id').shape[0], \"unique users:\" )\n"
   ]
  },
  {
   "cell_type": "code",
   "execution_count": 32,
   "metadata": {},
   "outputs": [
    {
     "data": {
      "text/plain": [
       "Bot        1637\n",
       "Genuino    1045\n",
       "Name: Class, dtype: int64"
      ]
     },
     "execution_count": 32,
     "metadata": {},
     "output_type": "execute_result"
    }
   ],
   "source": [
    "tweets.drop_duplicates('user_id')['Class'].value_counts()"
   ]
  },
  {
   "cell_type": "code",
   "execution_count": 33,
   "metadata": {},
   "outputs": [
    {
     "data": {
      "text/plain": [
       "0"
      ]
     },
     "execution_count": 33,
     "metadata": {},
     "output_type": "execute_result"
    }
   ],
   "source": [
    "#user less 200 tweet\n",
    "(tweets.groupby(['user_id'])['id'].count() <200).sum()"
   ]
  },
  {
   "cell_type": "code",
   "execution_count": 34,
   "metadata": {},
   "outputs": [],
   "source": [
    "#Random sample of 200 tweets for each user\n",
    "tweets=tweets.groupby('user_id').apply(lambda x: x.sample(n=200)).reset_index(drop=True)"
   ]
  },
  {
   "cell_type": "code",
   "execution_count": 36,
   "metadata": {},
   "outputs": [
    {
     "name": "stdout",
     "output_type": "stream",
     "text": [
      "yes, i think so:  0\n"
     ]
    }
   ],
   "source": [
    "#are you sure, no one has less than 200 tweets?\n",
    "print(\"yes, i think so: \",(tweets.user_id.value_counts() <200).sum())"
   ]
  },
  {
   "cell_type": "code",
   "execution_count": 37,
   "metadata": {},
   "outputs": [
    {
     "name": "stdout",
     "output_type": "stream",
     "text": [
      "Shape all tweets and users (536400, 17) unique users 2682\n"
     ]
    }
   ],
   "source": [
    "print(\"Shape all tweets and users\", tweets.shape, \"unique users\", tweets.drop_duplicates('user_id').shape[0])"
   ]
  },
  {
   "cell_type": "markdown",
   "metadata": {},
   "source": [
    "The Tweet object has a long list of ‘root-level’ attributes, including fundamental attributes such as id, created_at, and text. Thererofe, i will drop tweets that have this features as null"
   ]
  },
  {
   "cell_type": "code",
   "execution_count": 38,
   "metadata": {},
   "outputs": [],
   "source": [
    "#To avoid exeute again all pre-process made so far\n",
    "#tweets.to_csv('tweets_0.csv', sep=',')"
   ]
  },
  {
   "cell_type": "markdown",
   "metadata": {},
   "source": [
    "# New features\n"
   ]
  },
  {
   "cell_type": "markdown",
   "metadata": {},
   "source": [
    "The data in all groups is controled by created_at feature (oficial field of API). Only in traditional_bot is in a unknow format.That way, i going to use the timestamp feature. It;s important to observe, that the hour is in another UTC (2 hours more). But is do not matter for us.  \n",
    "\n"
   ]
  },
  {
   "cell_type": "code",
   "execution_count": 39,
   "metadata": {},
   "outputs": [],
   "source": [
    "# converte datas tabelas de tweets e cria variaveis temporais - Dia - Mes e Ano \n",
    "tweets['timestamp'] = pd.to_datetime(tweets['timestamp'])\n",
    "tweets['year_month']=tweets['timestamp'].apply(lambda x: '{year}-{month}'.format(year=x.year, month=x.month))\n",
    "tweets['year_month_day']=tweets['timestamp'].apply(lambda x: '{year}-{month}-{day}'.format(year=x.year, month=x.month, day=x.day))\n",
    "tweets['year']=tweets['timestamp'].apply(lambda x: '{year}'.format(year=x.year))\n",
    "\n",
    "    \n",
    "\n"
   ]
  },
  {
   "cell_type": "code",
   "execution_count": 40,
   "metadata": {},
   "outputs": [],
   "source": [
    "#means\n",
    "tweets['n_retweet_mean']=tweets.groupby(['user_id'])['retweet_count'].transform('mean')\n",
    "tweets['n_favorite_mean']=tweets.groupby(['user_id'])['favorite_count'].transform('mean')\n",
    "tweets['n_hashtags_mean']=tweets.groupby(['user_id'])['num_hashtags'].transform('mean')\n",
    "tweets['n_urls_mean']=tweets.groupby(['user_id'])['num_urls'].transform('mean')\n",
    "tweets['n_mentions_mean']=tweets.groupby(['user_id'])['num_mentions'].transform('mean')\n",
    "#size of twitter\n",
    "tweets['size_twitter'] = tweets['text'].astype('str').apply(len)\n",
    "#mean of size of twiiter\n",
    "tweets['media_size_twitter'] = tweets.groupby(['user_id'])['size_twitter'].transform('mean')\n",
    "#variance of size twitter.\n",
    "tweets['dp_size_twitter'] = tweets.groupby(['user_id'])['size_twitter'].transform('mad')"
   ]
  },
  {
   "cell_type": "code",
   "execution_count": 41,
   "metadata": {},
   "outputs": [],
   "source": [
    "#number of tweets that are reply \n",
    "numero_tweets_reply=\"\"\n",
    "numero_tweets_no_reply=\"\"\n",
    "tweets['in_reply_to_screen_name']=tweets['in_reply_to_screen_name'].map(lambda x : 1 if x!=0 else x)\n",
    "#Calulating some values\n",
    "numero_tweets_reply=tweets.groupby('user_id')['in_reply_to_screen_name'].transform('sum')\n",
    "#numero_tweets_no_reply=200-numero_tweets_reply\n",
    "#indicators\n",
    "tweets['in_tweets_reply']=numero_tweets_reply\n"
   ]
  },
  {
   "cell_type": "code",
   "execution_count": 42,
   "metadata": {},
   "outputs": [],
   "source": [
    "#first_tweet - nonsense after sampling\n",
    "#tweets['first_tweet']=tweets.groupby('user_id')['timestamp'].transform('min')"
   ]
  },
  {
   "cell_type": "code",
   "execution_count": 43,
   "metadata": {},
   "outputs": [],
   "source": [
    "#another features\n",
    "aux=pd.DataFrame()\n",
    "tweets['n_tweet_dia']=tweets.groupby(['user_id','year_month_day'])['id'].transform('count') #Calculo do MAX.\n",
    "tweets['max_count_tweet_dia']=tweets.groupby('user_id')['n_tweet_dia'].transform('max') # Calculo do In_max.\n",
    "#tweets['in_tweet_max_dia']=tweets['max_count_tweet_dia']/tweets['n_tweets'] #n_tweets_do_dia_mais_postou/n_total_de_tweets\n",
    "tweets['count_dias_tweet']= tweets.groupby(['user_id'])['year_month_day'].transform(lambda x: x.nunique()) #quantos dias usou o twiiter\n",
    "tweets['in_tweet_dia']=200/tweets['count_dias_tweet'] #total de tweets/dia que usouo twitter"
   ]
  },
  {
   "cell_type": "markdown",
   "metadata": {},
   "source": [
    "### Columns final dataset"
   ]
  },
  {
   "cell_type": "code",
   "execution_count": 44,
   "metadata": {},
   "outputs": [
    {
     "data": {
      "text/plain": [
       "Index(['id', 'text', 'source', 'user_id', 'in_reply_to_status_id',\n",
       "       'in_reply_to_user_id', 'in_reply_to_screen_name', 'retweeted_status_id',\n",
       "       'retweet_count', 'favorite_count', 'num_hashtags', 'num_urls',\n",
       "       'num_mentions', 'timestamp', 'type', 'n_tweets', 'Class', 'year_month',\n",
       "       'year_month_day', 'year', 'n_retweet_mean', 'n_favorite_mean',\n",
       "       'n_hashtags_mean', 'n_urls_mean', 'n_mentions_mean', 'size_twitter',\n",
       "       'media_size_twitter', 'dp_size_twitter', 'in_tweets_reply',\n",
       "       'n_tweet_dia', 'max_count_tweet_dia', 'count_dias_tweet',\n",
       "       'in_tweet_dia'],\n",
       "      dtype='object')"
      ]
     },
     "execution_count": 44,
     "metadata": {},
     "output_type": "execute_result"
    }
   ],
   "source": [
    "tweets.columns"
   ]
  },
  {
   "cell_type": "code",
   "execution_count": 45,
   "metadata": {},
   "outputs": [
    {
     "name": "stdout",
     "output_type": "stream",
     "text": [
      "(536400, 33)\n",
      "(2682, 33)\n"
     ]
    }
   ],
   "source": [
    "print(tweets.shape)\n",
    "print(tweets.drop_duplicates('user_id').shape)"
   ]
  },
  {
   "cell_type": "code",
   "execution_count": 46,
   "metadata": {},
   "outputs": [
    {
     "data": {
      "text/html": [
       "<div>\n",
       "<style scoped>\n",
       "    .dataframe tbody tr th:only-of-type {\n",
       "        vertical-align: middle;\n",
       "    }\n",
       "\n",
       "    .dataframe tbody tr th {\n",
       "        vertical-align: top;\n",
       "    }\n",
       "\n",
       "    .dataframe thead th {\n",
       "        text-align: right;\n",
       "    }\n",
       "</style>\n",
       "<table border=\"1\" class=\"dataframe\">\n",
       "  <thead>\n",
       "    <tr style=\"text-align: right;\">\n",
       "      <th></th>\n",
       "      <th>id</th>\n",
       "      <th>text</th>\n",
       "      <th>source</th>\n",
       "      <th>user_id</th>\n",
       "      <th>in_reply_to_status_id</th>\n",
       "      <th>in_reply_to_user_id</th>\n",
       "      <th>in_reply_to_screen_name</th>\n",
       "      <th>retweeted_status_id</th>\n",
       "      <th>retweet_count</th>\n",
       "      <th>favorite_count</th>\n",
       "      <th>num_hashtags</th>\n",
       "      <th>num_urls</th>\n",
       "      <th>num_mentions</th>\n",
       "      <th>timestamp</th>\n",
       "      <th>type</th>\n",
       "      <th>n_tweets</th>\n",
       "      <th>Class</th>\n",
       "      <th>year_month</th>\n",
       "      <th>year_month_day</th>\n",
       "      <th>year</th>\n",
       "      <th>n_retweet_mean</th>\n",
       "      <th>n_favorite_mean</th>\n",
       "      <th>n_hashtags_mean</th>\n",
       "      <th>n_urls_mean</th>\n",
       "      <th>n_mentions_mean</th>\n",
       "      <th>size_twitter</th>\n",
       "      <th>media_size_twitter</th>\n",
       "      <th>dp_size_twitter</th>\n",
       "      <th>in_tweets_reply</th>\n",
       "      <th>n_tweet_dia</th>\n",
       "      <th>max_count_tweet_dia</th>\n",
       "      <th>count_dias_tweet</th>\n",
       "      <th>in_tweet_dia</th>\n",
       "    </tr>\n",
       "  </thead>\n",
       "  <tbody>\n",
       "    <tr>\n",
       "      <th>0</th>\n",
       "      <td>527886874212569088</td>\n",
       "      <td>It isn't the age, it's the mileage that counts.</td>\n",
       "      <td>&lt;a href=\"http://tweetadder.com\" rel=\"nofollow\"...</td>\n",
       "      <td>1002202471.0</td>\n",
       "      <td>0.0</td>\n",
       "      <td>0.0</td>\n",
       "      <td>0</td>\n",
       "      <td>0.0</td>\n",
       "      <td>0.0</td>\n",
       "      <td>0.0</td>\n",
       "      <td>0.0</td>\n",
       "      <td>0.0</td>\n",
       "      <td>0.0</td>\n",
       "      <td>2014-10-30 19:16:53</td>\n",
       "      <td>3</td>\n",
       "      <td>3220</td>\n",
       "      <td>Bot</td>\n",
       "      <td>2014-10</td>\n",
       "      <td>2014-10-30</td>\n",
       "      <td>2014</td>\n",
       "      <td>0.005</td>\n",
       "      <td>0.015</td>\n",
       "      <td>0.0</td>\n",
       "      <td>0.445</td>\n",
       "      <td>0.0</td>\n",
       "      <td>47</td>\n",
       "      <td>82.035</td>\n",
       "      <td>22.0199</td>\n",
       "      <td>0</td>\n",
       "      <td>3</td>\n",
       "      <td>8</td>\n",
       "      <td>49</td>\n",
       "      <td>4.081633</td>\n",
       "    </tr>\n",
       "    <tr>\n",
       "      <th>1</th>\n",
       "      <td>523988408197451776</td>\n",
       "      <td>Read About the History of the Periodic Chart  ...</td>\n",
       "      <td>&lt;a href=\"http://tweetadder.com\" rel=\"nofollow\"...</td>\n",
       "      <td>1002202471.0</td>\n",
       "      <td>0.0</td>\n",
       "      <td>0.0</td>\n",
       "      <td>0</td>\n",
       "      <td>0.0</td>\n",
       "      <td>0.0</td>\n",
       "      <td>0.0</td>\n",
       "      <td>0.0</td>\n",
       "      <td>1.0</td>\n",
       "      <td>0.0</td>\n",
       "      <td>2014-10-20 02:05:46</td>\n",
       "      <td>3</td>\n",
       "      <td>3220</td>\n",
       "      <td>Bot</td>\n",
       "      <td>2014-10</td>\n",
       "      <td>2014-10-20</td>\n",
       "      <td>2014</td>\n",
       "      <td>0.005</td>\n",
       "      <td>0.015</td>\n",
       "      <td>0.0</td>\n",
       "      <td>0.445</td>\n",
       "      <td>0.0</td>\n",
       "      <td>68</td>\n",
       "      <td>82.035</td>\n",
       "      <td>22.0199</td>\n",
       "      <td>0</td>\n",
       "      <td>3</td>\n",
       "      <td>8</td>\n",
       "      <td>49</td>\n",
       "      <td>4.081633</td>\n",
       "    </tr>\n",
       "    <tr>\n",
       "      <th>2</th>\n",
       "      <td>514976327976628224</td>\n",
       "      <td>Then close your eyes and tap your heels togeth...</td>\n",
       "      <td>&lt;a href=\"http://tweetadder.com\" rel=\"nofollow\"...</td>\n",
       "      <td>1002202471.0</td>\n",
       "      <td>0.0</td>\n",
       "      <td>0.0</td>\n",
       "      <td>0</td>\n",
       "      <td>0.0</td>\n",
       "      <td>0.0</td>\n",
       "      <td>0.0</td>\n",
       "      <td>0.0</td>\n",
       "      <td>0.0</td>\n",
       "      <td>0.0</td>\n",
       "      <td>2014-09-25 05:14:59</td>\n",
       "      <td>3</td>\n",
       "      <td>3220</td>\n",
       "      <td>Bot</td>\n",
       "      <td>2014-9</td>\n",
       "      <td>2014-9-25</td>\n",
       "      <td>2014</td>\n",
       "      <td>0.005</td>\n",
       "      <td>0.015</td>\n",
       "      <td>0.0</td>\n",
       "      <td>0.445</td>\n",
       "      <td>0.0</td>\n",
       "      <td>133</td>\n",
       "      <td>82.035</td>\n",
       "      <td>22.0199</td>\n",
       "      <td>0</td>\n",
       "      <td>8</td>\n",
       "      <td>8</td>\n",
       "      <td>49</td>\n",
       "      <td>4.081633</td>\n",
       "    </tr>\n",
       "  </tbody>\n",
       "</table>\n",
       "</div>"
      ],
      "text/plain": [
       "                   id                                               text  \\\n",
       "0  527886874212569088    It isn't the age, it's the mileage that counts.   \n",
       "1  523988408197451776  Read About the History of the Periodic Chart  ...   \n",
       "2  514976327976628224  Then close your eyes and tap your heels togeth...   \n",
       "\n",
       "                                              source       user_id  \\\n",
       "0  <a href=\"http://tweetadder.com\" rel=\"nofollow\"...  1002202471.0   \n",
       "1  <a href=\"http://tweetadder.com\" rel=\"nofollow\"...  1002202471.0   \n",
       "2  <a href=\"http://tweetadder.com\" rel=\"nofollow\"...  1002202471.0   \n",
       "\n",
       "   in_reply_to_status_id  in_reply_to_user_id  in_reply_to_screen_name  \\\n",
       "0                    0.0                  0.0                        0   \n",
       "1                    0.0                  0.0                        0   \n",
       "2                    0.0                  0.0                        0   \n",
       "\n",
       "   retweeted_status_id  retweet_count  favorite_count  num_hashtags  num_urls  \\\n",
       "0                  0.0            0.0             0.0           0.0       0.0   \n",
       "1                  0.0            0.0             0.0           0.0       1.0   \n",
       "2                  0.0            0.0             0.0           0.0       0.0   \n",
       "\n",
       "   num_mentions           timestamp  type  n_tweets Class year_month  \\\n",
       "0           0.0 2014-10-30 19:16:53     3      3220   Bot    2014-10   \n",
       "1           0.0 2014-10-20 02:05:46     3      3220   Bot    2014-10   \n",
       "2           0.0 2014-09-25 05:14:59     3      3220   Bot     2014-9   \n",
       "\n",
       "  year_month_day  year  n_retweet_mean  n_favorite_mean  n_hashtags_mean  \\\n",
       "0     2014-10-30  2014           0.005            0.015              0.0   \n",
       "1     2014-10-20  2014           0.005            0.015              0.0   \n",
       "2      2014-9-25  2014           0.005            0.015              0.0   \n",
       "\n",
       "   n_urls_mean  n_mentions_mean  size_twitter  media_size_twitter  \\\n",
       "0        0.445              0.0            47              82.035   \n",
       "1        0.445              0.0            68              82.035   \n",
       "2        0.445              0.0           133              82.035   \n",
       "\n",
       "   dp_size_twitter  in_tweets_reply  n_tweet_dia  max_count_tweet_dia  \\\n",
       "0          22.0199                0            3                    8   \n",
       "1          22.0199                0            3                    8   \n",
       "2          22.0199                0            8                    8   \n",
       "\n",
       "   count_dias_tweet  in_tweet_dia  \n",
       "0                49      4.081633  \n",
       "1                49      4.081633  \n",
       "2                49      4.081633  "
      ]
     },
     "execution_count": 46,
     "metadata": {},
     "output_type": "execute_result"
    }
   ],
   "source": [
    "tweets.head(3)"
   ]
  },
  {
   "cell_type": "code",
   "execution_count": 35,
   "metadata": {},
   "outputs": [],
   "source": [
    "tweets.to_csv('tweets.csv', sep=',')"
   ]
  }
 ],
 "metadata": {
  "kernelspec": {
   "display_name": "Python 3",
   "language": "python",
   "name": "python3"
  },
  "language_info": {
   "codemirror_mode": {
    "name": "ipython",
    "version": 3
   },
   "file_extension": ".py",
   "mimetype": "text/x-python",
   "name": "python",
   "nbconvert_exporter": "python",
   "pygments_lexer": "ipython3",
   "version": "3.7.3"
  }
 },
 "nbformat": 4,
 "nbformat_minor": 2
}
